{
 "cells": [
  {
   "cell_type": "code",
   "execution_count": 3,
   "id": "77cd6e44",
   "metadata": {},
   "outputs": [],
   "source": [
    "import numpy as np\n",
    "import pandas as pd\n",
    "import matplotlib.pyplot as plt\n",
    "import tensorflow as tf\n",
    "from tensorflow import keras"
   ]
  },
  {
   "cell_type": "markdown",
   "id": "dc8cc263",
   "metadata": {},
   "source": [
    "1.regularization"
   ]
  },
  {
   "cell_type": "code",
   "execution_count": 4,
   "id": "59b52148",
   "metadata": {},
   "outputs": [
    {
     "data": {
      "text/plain": [
       "['L1',\n",
       " 'L1L2',\n",
       " 'L2',\n",
       " 'OrthogonalRegularizer',\n",
       " 'Regularizer',\n",
       " 'deserialize',\n",
       " 'get',\n",
       " 'l1',\n",
       " 'l1_l2',\n",
       " 'l2',\n",
       " 'orthogonal_regularizer',\n",
       " 'serialize']"
      ]
     },
     "execution_count": 4,
     "metadata": {},
     "output_type": "execute_result"
    }
   ],
   "source": [
    "[name for name in dir(keras.regularizers) if not name.startswith('_')]"
   ]
  },
  {
   "cell_type": "code",
   "execution_count": 5,
   "id": "879149d6",
   "metadata": {},
   "outputs": [],
   "source": [
    "r_l1=keras.regularizers.l1(l1=0.01)\n",
    "r_l2=keras.regularizers.l2(l2=0.01)\n",
    "\n",
    "r_l1_l2=keras.regularizers.l1_l2(l1=0.01,l2=0.01)"
   ]
  },
  {
   "cell_type": "markdown",
   "id": "d155df6d",
   "metadata": {},
   "source": [
    "ex1"
   ]
  },
  {
   "cell_type": "code",
   "execution_count": 6,
   "id": "6c27b0a8",
   "metadata": {},
   "outputs": [],
   "source": [
    "#Load data\n",
    "from tensorflow.keras.datasets import fashion_mnist\n",
    "(x_train_set,y_train_set),(x_test,y_test)=fashion_mnist.load_data()\n",
    "#Split data\n",
    "from sklearn.model_selection import train_test_split\n",
    "x_train,x_valid,y_train,y_valid=train_test_split(\n",
    "    x_train_set,y_train_set,random_state=1)\n",
    "#Preprocessing\n",
    "pixel_means=x_train.mean(axis=0,keepdims=True)\n",
    "pixel_stds=x_train.std(axis=0,keepdims=True)\n",
    "x_train_scaled=(x_train-pixel_means)/pixel_stds\n",
    "x_valid_scaled=(x_valid-pixel_means)/pixel_stds\n",
    "x_test_scaled=(x_test-pixel_means)/pixel_stds"
   ]
  },
  {
   "cell_type": "code",
   "execution_count": 7,
   "id": "473f977c",
   "metadata": {},
   "outputs": [],
   "source": [
    "tf.keras.backend.clear_session()\n",
    "np.random.seed(1)\n",
    "tf.random.set_seed(1)"
   ]
  },
  {
   "cell_type": "code",
   "execution_count": 8,
   "id": "2f01d886",
   "metadata": {},
   "outputs": [],
   "source": [
    "r_l2=keras.regularizers.l2(l2=0.01)\n",
    "model=keras.models.Sequential([\n",
    "    keras.layers.Flatten(input_shape=[28,28]),\n",
    "    keras.layers.Dense(300,activation='relu',kernel_initializer='he_normal',\n",
    "                      kernel_regularizer=r_l2),\n",
    "    keras.layers.Dense(100,activation='relu',kernel_initializer='he_normal',\n",
    "                      kernel_regularizer=r_l2),\n",
    "    keras.layers.Dense(10,activation='softmax',\n",
    "                      kernel_regularizer=r_l2),\n",
    "])"
   ]
  },
  {
   "cell_type": "code",
   "execution_count": 9,
   "id": "a2b9b06d",
   "metadata": {},
   "outputs": [],
   "source": [
    "model.compile(loss='sparse_categorical_crossentropy',\n",
    "              optimizer='nadam',metrics=['accuracy'])"
   ]
  },
  {
   "cell_type": "code",
   "execution_count": 10,
   "id": "0ae27a19",
   "metadata": {},
   "outputs": [
    {
     "name": "stdout",
     "output_type": "stream",
     "text": [
      "Epoch 1/2\n",
      "1407/1407 [==============================] - 5s 3ms/step - loss: 1.7126 - accuracy: 0.8144 - val_loss: 0.8447 - val_accuracy: 0.7902\n",
      "Epoch 2/2\n",
      "1407/1407 [==============================] - 4s 3ms/step - loss: 0.7387 - accuracy: 0.8274 - val_loss: 0.7133 - val_accuracy: 0.8331\n"
     ]
    }
   ],
   "source": [
    "train=model.fit(x_train_scaled,y_train,\n",
    "                epochs=2,\n",
    "                validation_data=(x_valid_scaled,y_valid))"
   ]
  },
  {
   "cell_type": "markdown",
   "id": "93ee3c8a",
   "metadata": {},
   "source": [
    "2.Dropout"
   ]
  },
  {
   "cell_type": "code",
   "execution_count": 11,
   "id": "e4e44024",
   "metadata": {},
   "outputs": [],
   "source": [
    "model=keras.models.Sequential([\n",
    "    keras.layers.Flatten(input_shape=[28,28]),\n",
    "    keras.layers.Dropout(rate=0.2),\n",
    "    keras.layers.Dense(300,activation='relu',kernel_initializer='he_normal',\n",
    "                      kernel_regularizer=r_l2),\n",
    "    keras.layers.Dropout(rate=0.2),\n",
    "    keras.layers.Dense(100,activation='relu',kernel_initializer='he_normal',\n",
    "                      kernel_regularizer=r_l2),\n",
    "    keras.layers.Dropout(rate=0.2),\n",
    "    keras.layers.Dense(10,activation='softmax',\n",
    "                      kernel_regularizer=r_l2),\n",
    "])"
   ]
  },
  {
   "cell_type": "code",
   "execution_count": 12,
   "id": "21d7b8f8",
   "metadata": {},
   "outputs": [],
   "source": [
    "model.compile(loss='sparse_categorical_crossentropy',\n",
    "              optimizer='nadam',metrics=['accuracy'])"
   ]
  },
  {
   "cell_type": "code",
   "execution_count": 13,
   "id": "40a0bd11",
   "metadata": {},
   "outputs": [
    {
     "name": "stdout",
     "output_type": "stream",
     "text": [
      "Epoch 1/2\n",
      "1407/1407 [==============================] - 5s 3ms/step - loss: 2.0922 - accuracy: 0.7884 - val_loss: 0.8732 - val_accuracy: 0.8018\n",
      "Epoch 2/2\n",
      "1407/1407 [==============================] - 4s 3ms/step - loss: 0.8527 - accuracy: 0.8044 - val_loss: 0.7924 - val_accuracy: 0.8199\n"
     ]
    }
   ],
   "source": [
    "train=model.fit(x_train_scaled,y_train,\n",
    "                epochs=2,\n",
    "                validation_data=(x_valid_scaled,y_valid))"
   ]
  },
  {
   "cell_type": "code",
   "execution_count": 14,
   "id": "325df403",
   "metadata": {},
   "outputs": [
    {
     "name": "stdout",
     "output_type": "stream",
     "text": [
      "313/313 [==============================] - 0s 718us/step - loss: 25.0028 - accuracy: 0.6823\n"
     ]
    },
    {
     "data": {
      "text/plain": [
       "[25.002761840820312, 0.6822999715805054]"
      ]
     },
     "execution_count": 14,
     "metadata": {},
     "output_type": "execute_result"
    }
   ],
   "source": [
    "model.evaluate(x_test,y_test)"
   ]
  },
  {
   "cell_type": "code",
   "execution_count": 15,
   "id": "5f3d89ae",
   "metadata": {},
   "outputs": [
    {
     "name": "stdout",
     "output_type": "stream",
     "text": [
      "313/313 [==============================] - 0s 607us/step\n"
     ]
    },
    {
     "data": {
      "text/plain": [
       "array([[0.  , 0.  , 0.  , 0.  , 0.  , 0.05, 0.  , 0.33, 0.  , 0.61],\n",
       "       [0.  , 0.  , 0.81, 0.  , 0.06, 0.  , 0.13, 0.  , 0.  , 0.  ],\n",
       "       [0.  , 1.  , 0.  , 0.  , 0.  , 0.  , 0.  , 0.  , 0.  , 0.  ]],\n",
       "      dtype=float32)"
      ]
     },
     "execution_count": 15,
     "metadata": {},
     "output_type": "execute_result"
    }
   ],
   "source": [
    "y_proba=model.predict(x_test_scaled)\n",
    "y_proba[:3].round(2)"
   ]
  },
  {
   "cell_type": "code",
   "execution_count": 16,
   "id": "057067af",
   "metadata": {},
   "outputs": [
    {
     "data": {
      "text/plain": [
       "array([9, 2, 1])"
      ]
     },
     "execution_count": 16,
     "metadata": {},
     "output_type": "execute_result"
    }
   ],
   "source": [
    "y_pred=np.argmax(y_proba,axis=1)\n",
    "y_pred[:3]"
   ]
  },
  {
   "cell_type": "code",
   "execution_count": 17,
   "id": "d53208f1",
   "metadata": {},
   "outputs": [
    {
     "data": {
      "text/plain": [
       "array([9, 2, 1], dtype=uint8)"
      ]
     },
     "execution_count": 17,
     "metadata": {},
     "output_type": "execute_result"
    }
   ],
   "source": [
    "y_test[:3]"
   ]
  },
  {
   "cell_type": "markdown",
   "id": "7f2e5cef",
   "metadata": {},
   "source": [
    "3.MC Dropout"
   ]
  },
  {
   "cell_type": "code",
   "execution_count": 18,
   "id": "5edb7c9c",
   "metadata": {},
   "outputs": [
    {
     "data": {
      "text/plain": [
       "(100, 3, 10)"
      ]
     },
     "execution_count": 18,
     "metadata": {},
     "output_type": "execute_result"
    }
   ],
   "source": [
    "y_probs=np.stack([model(x_test_scaled[:3],training=True) for _ in range(100)])\n",
    "y_probs.shape"
   ]
  },
  {
   "cell_type": "code",
   "execution_count": 19,
   "id": "15337d5e",
   "metadata": {},
   "outputs": [
    {
     "data": {
      "text/plain": [
       "array([[0.  , 0.  , 0.  , 0.  , 0.  , 0.07, 0.  , 0.33, 0.  , 0.59],\n",
       "       [0.01, 0.  , 0.76, 0.  , 0.08, 0.  , 0.15, 0.  , 0.  , 0.  ],\n",
       "       [0.  , 1.  , 0.  , 0.  , 0.  , 0.  , 0.  , 0.  , 0.  , 0.  ]],\n",
       "      dtype=float32)"
      ]
     },
     "execution_count": 19,
     "metadata": {},
     "output_type": "execute_result"
    }
   ],
   "source": [
    "y_proba_mc=y_probs.mean(axis=0)\n",
    "np.round(y_proba_mc,2)"
   ]
  },
  {
   "cell_type": "code",
   "execution_count": 20,
   "id": "1e651440",
   "metadata": {},
   "outputs": [
    {
     "data": {
      "text/plain": [
       "array([9, 2, 1])"
      ]
     },
     "execution_count": 20,
     "metadata": {},
     "output_type": "execute_result"
    }
   ],
   "source": [
    "y_pred=np.argmax(y_proba_mc,axis=1)\n",
    "y_pred"
   ]
  },
  {
   "cell_type": "markdown",
   "id": "2d49a712",
   "metadata": {},
   "source": [
    "Alpha dropout"
   ]
  },
  {
   "cell_type": "code",
   "execution_count": 21,
   "id": "9a44c470",
   "metadata": {},
   "outputs": [],
   "source": [
    "model=keras.models.Sequential([\n",
    "    keras.layers.Flatten(input_shape=[28,28]),\n",
    "    keras.layers.AlphaDropout(rate=0.2),\n",
    "    keras.layers.Dense(300,activation='selu',kernel_initializer='lecun_normal'),\n",
    "    keras.layers.AlphaDropout(rate=0.2),\n",
    "    keras.layers.Dense(100,activation='selu',kernel_initializer='lecun_normal'),\n",
    "    keras.layers.AlphaDropout(rate=0.2),\n",
    "    keras.layers.Dense(10,activation='softmax')\n",
    "])"
   ]
  },
  {
   "cell_type": "code",
   "execution_count": 22,
   "id": "1dcef4f3",
   "metadata": {},
   "outputs": [],
   "source": [
    "model.compile(loss='sparse_categorical_crossentropy',\n",
    "              optimizer='nadam',metrics=['accuracy'])"
   ]
  },
  {
   "cell_type": "code",
   "execution_count": 23,
   "id": "6b8c2ad7",
   "metadata": {},
   "outputs": [
    {
     "name": "stdout",
     "output_type": "stream",
     "text": [
      "Epoch 1/2\n",
      "1407/1407 [==============================] - 5s 3ms/step - loss: 0.6649 - accuracy: 0.7621 - val_loss: 0.5863 - val_accuracy: 0.8252\n",
      "Epoch 2/2\n",
      "1407/1407 [==============================] - 4s 3ms/step - loss: 0.5056 - accuracy: 0.8116 - val_loss: 0.5225 - val_accuracy: 0.8435\n"
     ]
    }
   ],
   "source": [
    "train=model.fit(x_train_scaled,y_train,\n",
    "                epochs=2,\n",
    "                validation_data=(x_valid_scaled,y_valid))"
   ]
  },
  {
   "cell_type": "markdown",
   "id": "0db61cd1",
   "metadata": {},
   "source": [
    "4.Max-Norm Regularization"
   ]
  },
  {
   "cell_type": "code",
   "execution_count": 24,
   "id": "49da3196",
   "metadata": {},
   "outputs": [],
   "source": [
    "model=keras.models.Sequential([\n",
    "    keras.layers.Flatten(input_shape=[28,28]),\n",
    "    keras.layers.AlphaDropout(rate=0.2),\n",
    "    keras.layers.Dense(300,activation='selu',kernel_initializer='lecun_normal',\n",
    "                      kernel_constraint=keras.constraints.max_norm(1.)),\n",
    "    keras.layers.AlphaDropout(rate=0.2),\n",
    "    keras.layers.Dense(100,activation='selu',kernel_initializer='lecun_normal',\n",
    "                      kernel_constraint=keras.constraints.max_norm(1.)),\n",
    "    keras.layers.AlphaDropout(rate=0.2),\n",
    "    keras.layers.Dense(10,activation='softmax')\n",
    "])"
   ]
  },
  {
   "cell_type": "code",
   "execution_count": 25,
   "id": "0fc5e09a",
   "metadata": {},
   "outputs": [],
   "source": [
    "model.compile(loss='sparse_categorical_crossentropy',\n",
    "              optimizer='nadam',metrics=['accuracy'])"
   ]
  },
  {
   "cell_type": "code",
   "execution_count": 26,
   "id": "5c9d26af",
   "metadata": {},
   "outputs": [
    {
     "name": "stdout",
     "output_type": "stream",
     "text": [
      "Epoch 1/2\n",
      "1407/1407 [==============================] - 5s 3ms/step - loss: 0.6659 - accuracy: 0.7632 - val_loss: 0.6037 - val_accuracy: 0.8244\n",
      "Epoch 2/2\n",
      "1407/1407 [==============================] - 4s 3ms/step - loss: 0.5175 - accuracy: 0.8094 - val_loss: 0.5384 - val_accuracy: 0.8377\n"
     ]
    }
   ],
   "source": [
    "train=model.fit(x_train_scaled,y_train,\n",
    "                epochs=2,\n",
    "                validation_data=(x_valid_scaled,y_valid))"
   ]
  },
  {
   "cell_type": "markdown",
   "id": "c3f05928",
   "metadata": {},
   "source": [
    "Transfer learning"
   ]
  },
  {
   "cell_type": "code",
   "execution_count": 27,
   "id": "d7af7458",
   "metadata": {},
   "outputs": [],
   "source": [
    "#load data\n",
    "from tensorflow.keras.datasets import fashion_mnist \n",
    "(x_train_set,y_train_set),(x_test_set,y_tesr_set)=fashion_mnist.load_data()\n",
    "#split data\n",
    "from sklearn.model_selection import train_test_split\n",
    "x_train,x_valid,y_train,y_valid=train_test_split(\n",
    "x_train_set,y_train_set,random_state=1)\n",
    "#preprocessing\n",
    "x_train=x_train/255.0\n",
    "x_valid=x_valid/255.0\n",
    "x_test=x_test/255.0"
   ]
  },
  {
   "cell_type": "markdown",
   "id": "ebc94e82",
   "metadata": {},
   "source": [
    "把資料切成A跟B，模擬資料少的情況"
   ]
  },
  {
   "cell_type": "code",
   "execution_count": 104,
   "id": "f92eec3b",
   "metadata": {},
   "outputs": [],
   "source": [
    "def split_data(x,y):\n",
    "    ind_B=(y==4)|(y==5)\n",
    "    y_B=(y[ind_B]==5).astype(np.float32)\n",
    "    y_A=y[~ind_B]\n",
    "    y_A[y_A>5]-=2\n",
    "    return (x[~ind_B],y_A),(x[ind_B],y_B)\n",
    "\n",
    "(x_train_A,y_train_A),(x_train_B,y_train_B)=split_data(x_train,y_train)\n",
    "(x_valid_A,y_valid_A),(x_valid_B,y_valid_B)=split_data(x_valid,y_valid)\n",
    "(x_test_A,y_test_A),(x_test_B,y_test_B)=split_data(x_test,y_test)\n",
    "\n",
    "x_train_B,y_train_B=x_train_B[:100],y_train_B[:100]"
   ]
  },
  {
   "cell_type": "code",
   "execution_count": 105,
   "id": "fea6ffdc",
   "metadata": {},
   "outputs": [],
   "source": [
    "keras.backend.clear_session()\n",
    "np.random.seed(1)\n",
    "tf.random.set_seed(1)"
   ]
  },
  {
   "cell_type": "code",
   "execution_count": 106,
   "id": "4bbe7bd8",
   "metadata": {},
   "outputs": [],
   "source": [
    "model_A=keras.models.Sequential()\n",
    "model_A.add(keras.layers.Flatten(input_shape=[28,28]))\n",
    "for hidden_i in(200,150,100,50):\n",
    "    model_A.add(keras.layers.Dense(hidden_i,activation='relu'))\n",
    "model_A.add(keras.layers.Dense(8,activation='softmax'))"
   ]
  },
  {
   "cell_type": "code",
   "execution_count": 107,
   "id": "68607d80",
   "metadata": {},
   "outputs": [
    {
     "name": "stdout",
     "output_type": "stream",
     "text": [
      "Model: \"sequential\"\n",
      "_________________________________________________________________\n",
      " Layer (type)                Output Shape              Param #   \n",
      "=================================================================\n",
      " flatten (Flatten)           (None, 784)               0         \n",
      "                                                                 \n",
      " dense (Dense)               (None, 200)               157000    \n",
      "                                                                 \n",
      " dense_1 (Dense)             (None, 150)               30150     \n",
      "                                                                 \n",
      " dense_2 (Dense)             (None, 100)               15100     \n",
      "                                                                 \n",
      " dense_3 (Dense)             (None, 50)                5050      \n",
      "                                                                 \n",
      " dense_4 (Dense)             (None, 8)                 408       \n",
      "                                                                 \n",
      "=================================================================\n",
      "Total params: 207708 (811.36 KB)\n",
      "Trainable params: 207708 (811.36 KB)\n",
      "Non-trainable params: 0 (0.00 Byte)\n",
      "_________________________________________________________________\n"
     ]
    }
   ],
   "source": [
    "model_A.summary()"
   ]
  },
  {
   "cell_type": "code",
   "execution_count": 108,
   "id": "327709aa",
   "metadata": {},
   "outputs": [],
   "source": [
    "model_A.compile(loss='sparse_categorical_crossentropy',\n",
    "              optimizer=tf.keras.optimizers.legacy.SGD(learning_rate=1e-3),metrics=['accuracy'])"
   ]
  },
  {
   "cell_type": "code",
   "execution_count": 109,
   "id": "64d8b089",
   "metadata": {},
   "outputs": [
    {
     "name": "stdout",
     "output_type": "stream",
     "text": [
      "Epoch 1/20\n",
      "1124/1124 [==============================] - 2s 1ms/step - loss: 1.5244 - accuracy: 0.5830 - val_loss: 0.9752 - val_accuracy: 0.7630\n",
      "Epoch 2/20\n",
      "1124/1124 [==============================] - 2s 1ms/step - loss: 0.7490 - accuracy: 0.7845 - val_loss: 0.6150 - val_accuracy: 0.7932\n",
      "Epoch 3/20\n",
      "1124/1124 [==============================] - 1s 1ms/step - loss: 0.5704 - accuracy: 0.8054 - val_loss: 0.5330 - val_accuracy: 0.8093\n",
      "Epoch 4/20\n",
      "1124/1124 [==============================] - 1s 1ms/step - loss: 0.5156 - accuracy: 0.8190 - val_loss: 0.4949 - val_accuracy: 0.8216\n",
      "Epoch 5/20\n",
      "1124/1124 [==============================] - 1s 1ms/step - loss: 0.4854 - accuracy: 0.8278 - val_loss: 0.4781 - val_accuracy: 0.8231\n",
      "Epoch 6/20\n",
      "1124/1124 [==============================] - 1s 1ms/step - loss: 0.4640 - accuracy: 0.8360 - val_loss: 0.4539 - val_accuracy: 0.8376\n",
      "Epoch 7/20\n",
      "1124/1124 [==============================] - 1s 1ms/step - loss: 0.4476 - accuracy: 0.8424 - val_loss: 0.4438 - val_accuracy: 0.8403\n",
      "Epoch 8/20\n",
      "1124/1124 [==============================] - 1s 1ms/step - loss: 0.4341 - accuracy: 0.8485 - val_loss: 0.4264 - val_accuracy: 0.8477\n",
      "Epoch 9/20\n",
      "1124/1124 [==============================] - 1s 1ms/step - loss: 0.4226 - accuracy: 0.8516 - val_loss: 0.4164 - val_accuracy: 0.8532\n",
      "Epoch 10/20\n",
      "1124/1124 [==============================] - 1s 1ms/step - loss: 0.4128 - accuracy: 0.8552 - val_loss: 0.4115 - val_accuracy: 0.8526\n",
      "Epoch 11/20\n",
      "1124/1124 [==============================] - 1s 1ms/step - loss: 0.4038 - accuracy: 0.8580 - val_loss: 0.3986 - val_accuracy: 0.8598\n",
      "Epoch 12/20\n",
      "1124/1124 [==============================] - 1s 1ms/step - loss: 0.3961 - accuracy: 0.8619 - val_loss: 0.3948 - val_accuracy: 0.8594\n",
      "Epoch 13/20\n",
      "1124/1124 [==============================] - 1s 1ms/step - loss: 0.3891 - accuracy: 0.8644 - val_loss: 0.3883 - val_accuracy: 0.8626\n",
      "Epoch 14/20\n",
      "1124/1124 [==============================] - 1s 1ms/step - loss: 0.3824 - accuracy: 0.8675 - val_loss: 0.3804 - val_accuracy: 0.8655\n",
      "Epoch 15/20\n",
      "1124/1124 [==============================] - 1s 1ms/step - loss: 0.3765 - accuracy: 0.8685 - val_loss: 0.3813 - val_accuracy: 0.8631\n",
      "Epoch 16/20\n",
      "1124/1124 [==============================] - 1s 1ms/step - loss: 0.3713 - accuracy: 0.8708 - val_loss: 0.3698 - val_accuracy: 0.8684\n",
      "Epoch 17/20\n",
      "1124/1124 [==============================] - 1s 1ms/step - loss: 0.3662 - accuracy: 0.8733 - val_loss: 0.3664 - val_accuracy: 0.8684\n",
      "Epoch 18/20\n",
      "1124/1124 [==============================] - 1s 1ms/step - loss: 0.3613 - accuracy: 0.8747 - val_loss: 0.3651 - val_accuracy: 0.8698\n",
      "Epoch 19/20\n",
      "1124/1124 [==============================] - 1s 1ms/step - loss: 0.3574 - accuracy: 0.8759 - val_loss: 0.3678 - val_accuracy: 0.8673\n",
      "Epoch 20/20\n",
      "1124/1124 [==============================] - 1s 1ms/step - loss: 0.3527 - accuracy: 0.8778 - val_loss: 0.3549 - val_accuracy: 0.8725\n"
     ]
    }
   ],
   "source": [
    "train=model_A.fit(x_train_A,y_train_A,epochs=20,\n",
    "                validation_data=(x_valid_A,y_valid_A))"
   ]
  },
  {
   "cell_type": "code",
   "execution_count": 110,
   "id": "4a950b3f",
   "metadata": {},
   "outputs": [
    {
     "name": "stdout",
     "output_type": "stream",
     "text": [
      "250/250 [==============================] - 0s 616us/step - loss: 0.3856 - accuracy: 0.8651\n"
     ]
    },
    {
     "data": {
      "text/plain": [
       "[0.3855954706668854, 0.8651250004768372]"
      ]
     },
     "execution_count": 110,
     "metadata": {},
     "output_type": "execute_result"
    }
   ],
   "source": [
    "model_A.evaluate(x_test_A,y_test_A)"
   ]
  },
  {
   "cell_type": "code",
   "execution_count": 111,
   "id": "e78c16ec",
   "metadata": {},
   "outputs": [],
   "source": [
    "model_A.save('model_A.h5')"
   ]
  },
  {
   "cell_type": "code",
   "execution_count": 112,
   "id": "9c6713f2",
   "metadata": {},
   "outputs": [],
   "source": [
    "model_B=keras.models.Sequential()\n",
    "model_B.add(keras.layers.Flatten(input_shape=[28,28]))\n",
    "for hidden_i in(300,150,100,80):\n",
    "    model_B.add(keras.layers.Dense(hidden_i,activation='relu'))\n",
    "model_B.add(keras.layers.Dense(1,activation='sigmoid'))"
   ]
  },
  {
   "cell_type": "code",
   "execution_count": 113,
   "id": "d610caff",
   "metadata": {},
   "outputs": [
    {
     "name": "stdout",
     "output_type": "stream",
     "text": [
      "Model: \"sequential_1\"\n",
      "_________________________________________________________________\n",
      " Layer (type)                Output Shape              Param #   \n",
      "=================================================================\n",
      " flatten_1 (Flatten)         (None, 784)               0         \n",
      "                                                                 \n",
      " dense_5 (Dense)             (None, 300)               235500    \n",
      "                                                                 \n",
      " dense_6 (Dense)             (None, 150)               45150     \n",
      "                                                                 \n",
      " dense_7 (Dense)             (None, 100)               15100     \n",
      "                                                                 \n",
      " dense_8 (Dense)             (None, 80)                8080      \n",
      "                                                                 \n",
      " dense_9 (Dense)             (None, 1)                 81        \n",
      "                                                                 \n",
      "=================================================================\n",
      "Total params: 303911 (1.16 MB)\n",
      "Trainable params: 303911 (1.16 MB)\n",
      "Non-trainable params: 0 (0.00 Byte)\n",
      "_________________________________________________________________\n"
     ]
    }
   ],
   "source": [
    "model_B.summary()"
   ]
  },
  {
   "cell_type": "code",
   "execution_count": 114,
   "id": "c368041e",
   "metadata": {},
   "outputs": [],
   "source": [
    "model_B.compile(loss='binary_crossentropy',\n",
    "                optimizer=tf.keras.optimizers.legacy.SGD(learning_rate=1e-3),metrics=['accuracy'])"
   ]
  },
  {
   "cell_type": "code",
   "execution_count": 115,
   "id": "988f5045",
   "metadata": {},
   "outputs": [
    {
     "name": "stdout",
     "output_type": "stream",
     "text": [
      "Epoch 1/20\n",
      "4/4 [==============================] - 0s 51ms/step - loss: 0.6763 - accuracy: 0.6500 - val_loss: 0.6753 - val_accuracy: 0.6179\n",
      "Epoch 2/20\n",
      "4/4 [==============================] - 0s 25ms/step - loss: 0.6707 - accuracy: 0.6500 - val_loss: 0.6701 - val_accuracy: 0.6392\n",
      "Epoch 3/20\n",
      "4/4 [==============================] - 0s 26ms/step - loss: 0.6651 - accuracy: 0.6500 - val_loss: 0.6637 - val_accuracy: 0.6459\n",
      "Epoch 4/20\n",
      "4/4 [==============================] - 0s 25ms/step - loss: 0.6582 - accuracy: 0.6600 - val_loss: 0.6573 - val_accuracy: 0.6425\n",
      "Epoch 5/20\n",
      "4/4 [==============================] - 0s 25ms/step - loss: 0.6517 - accuracy: 0.6700 - val_loss: 0.6528 - val_accuracy: 0.6452\n",
      "Epoch 6/20\n",
      "4/4 [==============================] - 0s 25ms/step - loss: 0.6467 - accuracy: 0.6700 - val_loss: 0.6484 - val_accuracy: 0.6462\n",
      "Epoch 7/20\n",
      "4/4 [==============================] - 0s 25ms/step - loss: 0.6420 - accuracy: 0.6800 - val_loss: 0.6437 - val_accuracy: 0.6432\n",
      "Epoch 8/20\n",
      "4/4 [==============================] - 0s 25ms/step - loss: 0.6369 - accuracy: 0.6800 - val_loss: 0.6387 - val_accuracy: 0.6368\n",
      "Epoch 9/20\n",
      "4/4 [==============================] - 0s 25ms/step - loss: 0.6316 - accuracy: 0.6800 - val_loss: 0.6343 - val_accuracy: 0.6331\n",
      "Epoch 10/20\n",
      "4/4 [==============================] - 0s 25ms/step - loss: 0.6269 - accuracy: 0.6800 - val_loss: 0.6305 - val_accuracy: 0.6307\n",
      "Epoch 11/20\n",
      "4/4 [==============================] - 0s 27ms/step - loss: 0.6228 - accuracy: 0.6800 - val_loss: 0.6258 - val_accuracy: 0.6250\n",
      "Epoch 12/20\n",
      "4/4 [==============================] - 0s 27ms/step - loss: 0.6179 - accuracy: 0.6800 - val_loss: 0.6225 - val_accuracy: 0.6270\n",
      "Epoch 13/20\n",
      "4/4 [==============================] - 0s 27ms/step - loss: 0.6144 - accuracy: 0.6800 - val_loss: 0.6193 - val_accuracy: 0.6270\n",
      "Epoch 14/20\n",
      "4/4 [==============================] - 0s 27ms/step - loss: 0.6110 - accuracy: 0.6800 - val_loss: 0.6152 - val_accuracy: 0.6213\n",
      "Epoch 15/20\n",
      "4/4 [==============================] - 0s 27ms/step - loss: 0.6067 - accuracy: 0.6800 - val_loss: 0.6119 - val_accuracy: 0.6179\n",
      "Epoch 16/20\n",
      "4/4 [==============================] - 0s 27ms/step - loss: 0.6032 - accuracy: 0.6800 - val_loss: 0.6089 - val_accuracy: 0.6179\n",
      "Epoch 17/20\n",
      "4/4 [==============================] - 0s 27ms/step - loss: 0.6000 - accuracy: 0.6700 - val_loss: 0.6066 - val_accuracy: 0.6243\n",
      "Epoch 18/20\n",
      "4/4 [==============================] - 0s 27ms/step - loss: 0.5974 - accuracy: 0.6800 - val_loss: 0.6038 - val_accuracy: 0.6274\n",
      "Epoch 19/20\n",
      "4/4 [==============================] - 0s 28ms/step - loss: 0.5943 - accuracy: 0.6900 - val_loss: 0.5999 - val_accuracy: 0.6186\n",
      "Epoch 20/20\n",
      "4/4 [==============================] - 0s 26ms/step - loss: 0.5903 - accuracy: 0.6700 - val_loss: 0.5969 - val_accuracy: 0.6166\n"
     ]
    }
   ],
   "source": [
    "train=model_B.fit(x_train_B,y_train_B,epochs=20,\n",
    "                 validation_data=(x_valid_B,y_valid_B))"
   ]
  },
  {
   "cell_type": "code",
   "execution_count": 116,
   "id": "95caa134",
   "metadata": {},
   "outputs": [
    {
     "name": "stdout",
     "output_type": "stream",
     "text": [
      "63/63 [==============================] - 0s 808us/step - loss: 0.5927 - accuracy: 0.6310\n"
     ]
    },
    {
     "data": {
      "text/plain": [
       "[0.5927383899688721, 0.6309999823570251]"
      ]
     },
     "execution_count": 116,
     "metadata": {},
     "output_type": "execute_result"
    }
   ],
   "source": [
    "model_B.evaluate(x_test_B,y_test_B)"
   ]
  },
  {
   "cell_type": "code",
   "execution_count": 117,
   "id": "7e090edc",
   "metadata": {},
   "outputs": [],
   "source": [
    "model_A=keras.models.load_model('model_A.h5')"
   ]
  },
  {
   "cell_type": "code",
   "execution_count": 118,
   "id": "07399a32",
   "metadata": {},
   "outputs": [],
   "source": [
    "model_tr=keras.models.Sequential(model_A.layers[:-2])"
   ]
  },
  {
   "cell_type": "code",
   "execution_count": 119,
   "id": "c1ab81b5",
   "metadata": {},
   "outputs": [
    {
     "name": "stdout",
     "output_type": "stream",
     "text": [
      "Model: \"sequential_2\"\n",
      "_________________________________________________________________\n",
      " Layer (type)                Output Shape              Param #   \n",
      "=================================================================\n",
      " flatten (Flatten)           (None, 784)               0         \n",
      "                                                                 \n",
      " dense (Dense)               (None, 200)               157000    \n",
      "                                                                 \n",
      " dense_1 (Dense)             (None, 150)               30150     \n",
      "                                                                 \n",
      " dense_2 (Dense)             (None, 100)               15100     \n",
      "                                                                 \n",
      "=================================================================\n",
      "Total params: 202250 (790.04 KB)\n",
      "Trainable params: 202250 (790.04 KB)\n",
      "Non-trainable params: 0 (0.00 Byte)\n",
      "_________________________________________________________________\n"
     ]
    }
   ],
   "source": [
    "model_tr.summary()"
   ]
  },
  {
   "cell_type": "code",
   "execution_count": 120,
   "id": "358c96e3",
   "metadata": {},
   "outputs": [],
   "source": [
    "model_tr.add(keras.layers.Dense(80,activation='relu'))\n",
    "model_tr.add(keras.layers.Dense(1,activation='sigmoid'))"
   ]
  },
  {
   "cell_type": "code",
   "execution_count": 121,
   "id": "a75a5b8d",
   "metadata": {},
   "outputs": [
    {
     "name": "stdout",
     "output_type": "stream",
     "text": [
      "Model: \"sequential_2\"\n",
      "_________________________________________________________________\n",
      " Layer (type)                Output Shape              Param #   \n",
      "=================================================================\n",
      " flatten (Flatten)           (None, 784)               0         \n",
      "                                                                 \n",
      " dense (Dense)               (None, 200)               157000    \n",
      "                                                                 \n",
      " dense_1 (Dense)             (None, 150)               30150     \n",
      "                                                                 \n",
      " dense_2 (Dense)             (None, 100)               15100     \n",
      "                                                                 \n",
      " dense_10 (Dense)            (None, 80)                8080      \n",
      "                                                                 \n",
      " dense_11 (Dense)            (None, 1)                 81        \n",
      "                                                                 \n",
      "=================================================================\n",
      "Total params: 210411 (821.92 KB)\n",
      "Trainable params: 210411 (821.92 KB)\n",
      "Non-trainable params: 0 (0.00 Byte)\n",
      "_________________________________________________________________\n"
     ]
    }
   ],
   "source": [
    "model_tr.summary()"
   ]
  },
  {
   "cell_type": "code",
   "execution_count": 122,
   "id": "248849ef",
   "metadata": {},
   "outputs": [],
   "source": [
    "for layer in model_tr.layers[:-2]:\n",
    "    layer.trainable=False"
   ]
  },
  {
   "cell_type": "code",
   "execution_count": 123,
   "id": "64c8a3bd",
   "metadata": {},
   "outputs": [
    {
     "name": "stdout",
     "output_type": "stream",
     "text": [
      "Model: \"sequential_2\"\n",
      "____________________________________________________________________________\n",
      " Layer (type)                Output Shape              Param #   Trainable  \n",
      "============================================================================\n",
      " flatten (Flatten)           (None, 784)               0         N          \n",
      "                                                                            \n",
      " dense (Dense)               (None, 200)               157000    N          \n",
      "                                                                            \n",
      " dense_1 (Dense)             (None, 150)               30150     N          \n",
      "                                                                            \n",
      " dense_2 (Dense)             (None, 100)               15100     N          \n",
      "                                                                            \n",
      " dense_10 (Dense)            (None, 80)                8080      Y          \n",
      "                                                                            \n",
      " dense_11 (Dense)            (None, 1)                 81        Y          \n",
      "                                                                            \n",
      "============================================================================\n",
      "Total params: 210411 (821.92 KB)\n",
      "Trainable params: 8161 (31.88 KB)\n",
      "Non-trainable params: 202250 (790.04 KB)\n",
      "____________________________________________________________________________\n"
     ]
    }
   ],
   "source": [
    "model_tr.summary(show_trainable=True)"
   ]
  },
  {
   "cell_type": "code",
   "execution_count": 124,
   "id": "d466d70a",
   "metadata": {},
   "outputs": [],
   "source": [
    "model_tr.compile(loss='binary_crossentropy',\n",
    "                 optimizer=tf.keras.optimizers.legacy.SGD(learning_rate=1e-3),metrics=['accuracy'])"
   ]
  },
  {
   "cell_type": "code",
   "execution_count": 125,
   "id": "e59f0dba",
   "metadata": {},
   "outputs": [
    {
     "name": "stdout",
     "output_type": "stream",
     "text": [
      "Epoch 1/4\n",
      "4/4 [==============================] - 0s 49ms/step - loss: 0.8881 - accuracy: 0.4300 - val_loss: 0.8522 - val_accuracy: 0.4370\n",
      "Epoch 2/4\n",
      "4/4 [==============================] - 0s 22ms/step - loss: 0.8489 - accuracy: 0.4400 - val_loss: 0.8152 - val_accuracy: 0.4633\n",
      "Epoch 3/4\n",
      "4/4 [==============================] - 0s 23ms/step - loss: 0.8122 - accuracy: 0.4800 - val_loss: 0.7787 - val_accuracy: 0.4852\n",
      "Epoch 4/4\n",
      "4/4 [==============================] - 0s 22ms/step - loss: 0.7756 - accuracy: 0.4900 - val_loss: 0.7510 - val_accuracy: 0.4936\n"
     ]
    }
   ],
   "source": [
    "train=model_tr.fit(x_train_B,y_train_B,epochs=4,\n",
    "                  validation_data=(x_valid_B,y_valid_B))"
   ]
  },
  {
   "cell_type": "code",
   "execution_count": 127,
   "id": "423001a5",
   "metadata": {},
   "outputs": [],
   "source": [
    "for layer in model_tr.layers[:-2]:\n",
    "    layer.trainable=True"
   ]
  },
  {
   "cell_type": "code",
   "execution_count": 128,
   "id": "b4d3a6d3",
   "metadata": {},
   "outputs": [
    {
     "name": "stdout",
     "output_type": "stream",
     "text": [
      "Model: \"sequential_2\"\n",
      "____________________________________________________________________________\n",
      " Layer (type)                Output Shape              Param #   Trainable  \n",
      "============================================================================\n",
      " flatten (Flatten)           (None, 784)               0         Y          \n",
      "                                                                            \n",
      " dense (Dense)               (None, 200)               157000    Y          \n",
      "                                                                            \n",
      " dense_1 (Dense)             (None, 150)               30150     Y          \n",
      "                                                                            \n",
      " dense_2 (Dense)             (None, 100)               15100     Y          \n",
      "                                                                            \n",
      " dense_10 (Dense)            (None, 80)                8080      Y          \n",
      "                                                                            \n",
      " dense_11 (Dense)            (None, 1)                 81        Y          \n",
      "                                                                            \n",
      "============================================================================\n",
      "Total params: 210411 (821.92 KB)\n",
      "Trainable params: 210411 (821.92 KB)\n",
      "Non-trainable params: 0 (0.00 Byte)\n",
      "____________________________________________________________________________\n"
     ]
    }
   ],
   "source": [
    "model_tr.summary(show_trainable=True)"
   ]
  },
  {
   "cell_type": "code",
   "execution_count": 129,
   "id": "a63fba6b",
   "metadata": {},
   "outputs": [],
   "source": [
    "model_tr.compile(loss='binary_crossentropy',\n",
    "                 optimizer=tf.keras.optimizers.legacy.SGD(learning_rate=1e-3),metrics=['accuracy'])"
   ]
  },
  {
   "cell_type": "code",
   "execution_count": 130,
   "id": "5329b6ca",
   "metadata": {},
   "outputs": [
    {
     "name": "stdout",
     "output_type": "stream",
     "text": [
      "Epoch 1/16\n",
      "4/4 [==============================] - 0s 49ms/step - loss: 0.7427 - accuracy: 0.4900 - val_loss: 0.7061 - val_accuracy: 0.4939\n",
      "Epoch 2/16\n",
      "4/4 [==============================] - 0s 23ms/step - loss: 0.6950 - accuracy: 0.4900 - val_loss: 0.6628 - val_accuracy: 0.4946\n",
      "Epoch 3/16\n",
      "4/4 [==============================] - 0s 23ms/step - loss: 0.6507 - accuracy: 0.4900 - val_loss: 0.6231 - val_accuracy: 0.4953\n",
      "Epoch 4/16\n",
      "4/4 [==============================] - 0s 24ms/step - loss: 0.6099 - accuracy: 0.4900 - val_loss: 0.5922 - val_accuracy: 0.4970\n",
      "Epoch 5/16\n",
      "4/4 [==============================] - 0s 23ms/step - loss: 0.5804 - accuracy: 0.4900 - val_loss: 0.5589 - val_accuracy: 0.5131\n",
      "Epoch 6/16\n",
      "4/4 [==============================] - 0s 23ms/step - loss: 0.5434 - accuracy: 0.5100 - val_loss: 0.5264 - val_accuracy: 0.5583\n",
      "Epoch 7/16\n",
      "4/4 [==============================] - 0s 23ms/step - loss: 0.5108 - accuracy: 0.5500 - val_loss: 0.4995 - val_accuracy: 0.6092\n",
      "Epoch 8/16\n",
      "4/4 [==============================] - 0s 23ms/step - loss: 0.4840 - accuracy: 0.5900 - val_loss: 0.4773 - val_accuracy: 0.6624\n",
      "Epoch 9/16\n",
      "4/4 [==============================] - 0s 23ms/step - loss: 0.4599 - accuracy: 0.7000 - val_loss: 0.4543 - val_accuracy: 0.7335\n",
      "Epoch 10/16\n",
      "4/4 [==============================] - 0s 23ms/step - loss: 0.4363 - accuracy: 0.8000 - val_loss: 0.4341 - val_accuracy: 0.8285\n",
      "Epoch 11/16\n",
      "4/4 [==============================] - 0s 23ms/step - loss: 0.4163 - accuracy: 0.8800 - val_loss: 0.4168 - val_accuracy: 0.8524\n",
      "Epoch 12/16\n",
      "4/4 [==============================] - 0s 24ms/step - loss: 0.3979 - accuracy: 0.9000 - val_loss: 0.3960 - val_accuracy: 0.9242\n",
      "Epoch 13/16\n",
      "4/4 [==============================] - 0s 23ms/step - loss: 0.3776 - accuracy: 0.9600 - val_loss: 0.3787 - val_accuracy: 0.9532\n",
      "Epoch 14/16\n",
      "4/4 [==============================] - 0s 23ms/step - loss: 0.3607 - accuracy: 0.9600 - val_loss: 0.3640 - val_accuracy: 0.9565\n",
      "Epoch 15/16\n",
      "4/4 [==============================] - 0s 23ms/step - loss: 0.3452 - accuracy: 0.9600 - val_loss: 0.3509 - val_accuracy: 0.9602\n",
      "Epoch 16/16\n",
      "4/4 [==============================] - 0s 24ms/step - loss: 0.3320 - accuracy: 0.9600 - val_loss: 0.3373 - val_accuracy: 0.9727\n"
     ]
    }
   ],
   "source": [
    "train=model_tr.fit(x_train_B,y_train_B,epochs=16,\n",
    "                  validation_data=(x_valid_B,y_valid_B))"
   ]
  },
  {
   "cell_type": "code",
   "execution_count": 131,
   "id": "d75d0d5f",
   "metadata": {},
   "outputs": [
    {
     "name": "stdout",
     "output_type": "stream",
     "text": [
      "63/63 [==============================] - 0s 703us/step - loss: 0.3338 - accuracy: 0.9700\n"
     ]
    },
    {
     "data": {
      "text/plain": [
       "[0.33377698063850403, 0.9700000286102295]"
      ]
     },
     "execution_count": 131,
     "metadata": {},
     "output_type": "execute_result"
    }
   ],
   "source": [
    "model_tr.evaluate(x_test_B,y_test_B)"
   ]
  },
  {
   "cell_type": "code",
   "execution_count": null,
   "id": "6011e6e0",
   "metadata": {},
   "outputs": [],
   "source": []
  }
 ],
 "metadata": {
  "kernelspec": {
   "display_name": "Python 3 (ipykernel)",
   "language": "python",
   "name": "python3"
  },
  "language_info": {
   "codemirror_mode": {
    "name": "ipython",
    "version": 3
   },
   "file_extension": ".py",
   "mimetype": "text/x-python",
   "name": "python",
   "nbconvert_exporter": "python",
   "pygments_lexer": "ipython3",
   "version": "3.8.18"
  }
 },
 "nbformat": 4,
 "nbformat_minor": 5
}
