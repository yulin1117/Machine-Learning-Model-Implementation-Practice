{
 "cells": [
  {
   "cell_type": "code",
   "execution_count": 1,
   "id": "77cd6e44",
   "metadata": {},
   "outputs": [],
   "source": [
    "import numpy as np\n",
    "import pandas as pd\n",
    "import matplotlib.pyplot as plt\n",
    "import tensorflow as tf\n",
    "from tensorflow import keras"
   ]
  },
  {
   "cell_type": "markdown",
   "id": "dc8cc263",
   "metadata": {},
   "source": [
    "1.Data"
   ]
  },
  {
   "cell_type": "code",
   "execution_count": 9,
   "id": "59b52148",
   "metadata": {},
   "outputs": [],
   "source": [
    "from tensorflow.keras.datasets import cifar10\n",
    "(x_train,y_train),(x_test,y_test)=cifar10.load_data()"
   ]
  },
  {
   "cell_type": "markdown",
   "id": "d155df6d",
   "metadata": {},
   "source": [
    "check data"
   ]
  },
  {
   "cell_type": "code",
   "execution_count": 10,
   "id": "879149d6",
   "metadata": {},
   "outputs": [
    {
     "data": {
      "text/plain": [
       "((50000, 32, 32, 3), (50000, 1), (10000, 32, 32, 3), (10000, 1))"
      ]
     },
     "execution_count": 10,
     "metadata": {},
     "output_type": "execute_result"
    }
   ],
   "source": [
    "x_train.shape,y_train.shape,x_test.shape,y_test.shape"
   ]
  },
  {
   "cell_type": "code",
   "execution_count": 11,
   "id": "6c27b0a8",
   "metadata": {},
   "outputs": [
    {
     "name": "stdout",
     "output_type": "stream",
     "text": [
      "[6]\n"
     ]
    },
    {
     "data": {
      "text/plain": [
       "<function matplotlib.pyplot.show(close=None, block=None)>"
      ]
     },
     "execution_count": 11,
     "metadata": {},
     "output_type": "execute_result"
    },
    {
     "data": {
      "image/png": "[encoded data removed]",
      "text/plain": [
       "<Figure size 640x480 with 1 Axes>"
      ]
     },
     "metadata": {},
     "output_type": "display_data"
    }
   ],
   "source": [
    "i=0\n",
    "print(y_train[i])\n",
    "plt.imshow(x_train[i])\n",
    "plt.show"
   ]
  },
  {
   "cell_type": "markdown",
   "id": "91e9206d",
   "metadata": {},
   "source": [
    "Preprocessing"
   ]
  },
  {
   "cell_type": "code",
   "execution_count": 12,
   "id": "2f01d886",
   "metadata": {},
   "outputs": [],
   "source": [
    "x_train=x_train/255.0\n",
    "x_test=x_test/255.0"
   ]
  },
  {
   "cell_type": "markdown",
   "id": "609a8530",
   "metadata": {},
   "source": [
    "Build Model"
   ]
  },
  {
   "cell_type": "code",
   "execution_count": 27,
   "id": "0ae27a19",
   "metadata": {},
   "outputs": [],
   "source": [
    "import tensorflow as tf\n",
    "from tensorflow import keras\n",
    "from tensorflow.keras.models import Sequential\n",
    "from tensorflow.keras.layers import Dense,Dropout,Flatten\n",
    "from tensorflow.keras.layers import Conv2D,MaxPooling2D,AveragePooling2D\n",
    "\n",
    "keras.backend.clear_session()\n",
    "np.random.seed(1)\n",
    "tf.random.set_seed(1)"
   ]
  },
  {
   "cell_type": "code",
   "execution_count": 30,
   "id": "e4e44024",
   "metadata": {},
   "outputs": [],
   "source": [
    "model=Sequential([\n",
    "    Conv2D(filters=30,kernel_size=(4,4),strides=(1,1),padding='valid',\n",
    "          activation='relu',input_shape=(32,32,3)),\n",
    "    Dropout(rate=0.25),\n",
    "    MaxPooling2D(pool_size=(2,2),padding='valid'),\n",
    "    \n",
    "    Conv2D(filters=60,kernel_size=3,strides=2,padding='same',\n",
    "          activation='relu'),\n",
    "    Dropout(rate=0.25),\n",
    "    MaxPooling2D(pool_size=2,padding='same'),\n",
    "    \n",
    "    Flatten(),\n",
    "    Dropout(rate=0.25),\n",
    "    Dense(1024,activation='relu'),\n",
    "    Dropout(rate=0.25),\n",
    "    Dense(10,activation='softmax')\n",
    "])"
   ]
  },
  {
   "cell_type": "code",
   "execution_count": 31,
   "id": "69ea9558",
   "metadata": {},
   "outputs": [
    {
     "name": "stdout",
     "output_type": "stream",
     "text": [
      "Model: \"sequential_1\"\n",
      "_________________________________________________________________\n",
      " Layer (type)                Output Shape              Param #   \n",
      "=================================================================\n",
      " conv2d_2 (Conv2D)           (None, 29, 29, 30)        1470      \n",
      "                                                                 \n",
      " dropout_4 (Dropout)         (None, 29, 29, 30)        0         \n",
      "                                                                 \n",
      " max_pooling2d_2 (MaxPoolin  (None, 14, 14, 30)        0         \n",
      " g2D)                                                            \n",
      "                                                                 \n",
      " conv2d_3 (Conv2D)           (None, 7, 7, 60)          16260     \n",
      "                                                                 \n",
      " dropout_5 (Dropout)         (None, 7, 7, 60)          0         \n",
      "                                                                 \n",
      " max_pooling2d_3 (MaxPoolin  (None, 4, 4, 60)          0         \n",
      " g2D)                                                            \n",
      "                                                                 \n",
      " flatten_1 (Flatten)         (None, 960)               0         \n",
      "                                                                 \n",
      " dropout_6 (Dropout)         (None, 960)               0         \n",
      "                                                                 \n",
      " dense_2 (Dense)             (None, 1024)              984064    \n",
      "                                                                 \n",
      " dropout_7 (Dropout)         (None, 1024)              0         \n",
      "                                                                 \n",
      " dense_3 (Dense)             (None, 10)                10250     \n",
      "                                                                 \n",
      "=================================================================\n",
      "Total params: 1012044 (3.86 MB)\n",
      "Trainable params: 1012044 (3.86 MB)\n",
      "Non-trainable params: 0 (0.00 Byte)\n",
      "_________________________________________________________________\n"
     ]
    }
   ],
   "source": [
    "model.summary()"
   ]
  },
  {
   "cell_type": "code",
   "execution_count": 32,
   "id": "21d7b8f8",
   "metadata": {},
   "outputs": [],
   "source": [
    "model.compile(loss='sparse_categorical_crossentropy',\n",
    "              optimizer='adam',metrics=['accuracy'])"
   ]
  },
  {
   "cell_type": "code",
   "execution_count": 35,
   "id": "40a0bd11",
   "metadata": {},
   "outputs": [
    {
     "name": "stdout",
     "output_type": "stream",
     "text": [
      "Epoch 1/10\n",
      "313/313 [==============================] - 16s 51ms/step - loss: 1.6257 - accuracy: 0.4110 - val_loss: 1.4308 - val_accuracy: 0.5258\n",
      "Epoch 2/10\n",
      "313/313 [==============================] - 17s 54ms/step - loss: 1.3177 - accuracy: 0.5269 - val_loss: 1.2834 - val_accuracy: 0.5786\n",
      "Epoch 3/10\n",
      "313/313 [==============================] - 16s 51ms/step - loss: 1.1920 - accuracy: 0.5755 - val_loss: 1.1649 - val_accuracy: 0.6197\n",
      "Epoch 4/10\n",
      "313/313 [==============================] - 15s 49ms/step - loss: 1.1149 - accuracy: 0.6044 - val_loss: 1.1460 - val_accuracy: 0.6129\n",
      "Epoch 5/10\n",
      "313/313 [==============================] - 15s 48ms/step - loss: 1.0376 - accuracy: 0.6344 - val_loss: 1.0289 - val_accuracy: 0.6591\n",
      "Epoch 6/10\n",
      "313/313 [==============================] - 16s 51ms/step - loss: 0.9792 - accuracy: 0.6526 - val_loss: 1.0305 - val_accuracy: 0.6522\n",
      "Epoch 7/10\n",
      "313/313 [==============================] - 16s 50ms/step - loss: 0.9239 - accuracy: 0.6746 - val_loss: 0.9732 - val_accuracy: 0.6805\n",
      "Epoch 8/10\n",
      "313/313 [==============================] - 15s 49ms/step - loss: 0.8817 - accuracy: 0.6902 - val_loss: 0.9220 - val_accuracy: 0.6948\n",
      "Epoch 9/10\n",
      "313/313 [==============================] - 15s 49ms/step - loss: 0.8298 - accuracy: 0.7048 - val_loss: 0.8899 - val_accuracy: 0.7028\n",
      "Epoch 10/10\n",
      "313/313 [==============================] - 15s 49ms/step - loss: 0.7880 - accuracy: 0.7204 - val_loss: 0.8718 - val_accuracy: 0.7163\n"
     ]
    }
   ],
   "source": [
    "train=model.fit(x_train,y_train,validation_split=0.2,epochs=10,batch_size=128,verbose=1)"
   ]
  },
  {
   "cell_type": "code",
   "execution_count": 36,
   "id": "d43e9ed6",
   "metadata": {},
   "outputs": [
    {
     "data": {
      "image/png": "[encoded data removed]",
      "text/plain": [
       "<Figure size 800x500 with 1 Axes>"
      ]
     },
     "metadata": {},
     "output_type": "display_data"
    }
   ],
   "source": [
    "pd.DataFrame(train.history).plot(figsize=(8,5))\n",
    "plt.grid(True)\n",
    "plt.show()"
   ]
  },
  {
   "cell_type": "code",
   "execution_count": 37,
   "id": "325df403",
   "metadata": {},
   "outputs": [
    {
     "data": {
      "text/plain": [
       "[0.8744276165962219, 0.7084000110626221]"
      ]
     },
     "execution_count": 37,
     "metadata": {},
     "output_type": "execute_result"
    }
   ],
   "source": [
    "model.evaluate(x_test,y_test,verbose=0)"
   ]
  },
  {
   "cell_type": "code",
   "execution_count": 38,
   "id": "6f422a76",
   "metadata": {},
   "outputs": [
    {
     "name": "stdout",
     "output_type": "stream",
     "text": [
      "313/313 [==============================] - 1s 4ms/step\n"
     ]
    },
    {
     "data": {
      "text/plain": [
       "array([[0.  , 0.01, 0.03, 0.6 , 0.04, 0.17, 0.07, 0.01, 0.05, 0.01],\n",
       "       [0.01, 0.32, 0.  , 0.  , 0.  , 0.  , 0.  , 0.  , 0.66, 0.  ],\n",
       "       [0.25, 0.11, 0.01, 0.01, 0.01, 0.  , 0.  , 0.01, 0.46, 0.13]],\n",
       "      dtype=float32)"
      ]
     },
     "execution_count": 38,
     "metadata": {},
     "output_type": "execute_result"
    }
   ],
   "source": [
    "y_proba=model.predict(x_test)\n",
    "y_proba[:3].round(2)\n"
   ]
  },
  {
   "cell_type": "code",
   "execution_count": 39,
   "id": "a1f78970",
   "metadata": {},
   "outputs": [
    {
     "data": {
      "text/plain": [
       "array([3, 8, 8])"
      ]
     },
     "execution_count": 39,
     "metadata": {},
     "output_type": "execute_result"
    }
   ],
   "source": [
    "y_pred=np.argmax(y_proba,axis=1)\n",
    "y_pred[:3]"
   ]
  },
  {
   "cell_type": "code",
   "execution_count": 40,
   "id": "ecb0f811",
   "metadata": {},
   "outputs": [
    {
     "data": {
      "text/plain": [
       "array([[3],\n",
       "       [8],\n",
       "       [8]], dtype=uint8)"
      ]
     },
     "execution_count": 40,
     "metadata": {},
     "output_type": "execute_result"
    }
   ],
   "source": [
    "y_test[:3]"
   ]
  },
  {
   "cell_type": "code",
   "execution_count": 41,
   "id": "c8d67d46",
   "metadata": {},
   "outputs": [
    {
     "data": {
      "text/plain": [
       "array([[772,  17,  61,  11,  24,   1,  17,  12,  55,  30],\n",
       "       [ 27, 827,   7,   8,   5,   3,  13,   3,  24,  83],\n",
       "       [ 64,   4, 632,  43, 104,  24,  78,  28,  13,  10],\n",
       "       [ 15,  11, 111, 486, 107, 107,  99,  30,  12,  22],\n",
       "       [ 20,   5,  94,  41, 700,  11,  62,  58,   8,   1],\n",
       "       [ 10,   1, 103, 238,  74, 466,  45,  49,  10,   4],\n",
       "       [  3,   4,  44,  39,  29,   9, 854,   6,   8,   4],\n",
       "       [ 12,   7,  47,  53,  74,  27,  12, 759,   0,   9],\n",
       "       [ 59,  35,  19,  12,  12,   3,   8,   5, 825,  22],\n",
       "       [ 35, 102,  11,  13,  14,   4,  15,  11,  32, 763]])"
      ]
     },
     "execution_count": 41,
     "metadata": {},
     "output_type": "execute_result"
    }
   ],
   "source": [
    "from sklearn.metrics import confusion_matrix\n",
    "confusion_matrix(y_test,y_pred)"
   ]
  },
  {
   "cell_type": "code",
   "execution_count": null,
   "id": "2ce52dee",
   "metadata": {},
   "outputs": [],
   "source": []
  }
 ],
 "metadata": {
  "kernelspec": {
   "display_name": "Python 3 (ipykernel)",
   "language": "python",
   "name": "python3"
  },
  "language_info": {
   "codemirror_mode": {
    "name": "ipython",
    "version": 3
   },
   "file_extension": ".py",
   "mimetype": "text/x-python",
   "name": "python",
   "nbconvert_exporter": "python",
   "pygments_lexer": "ipython3",
   "version": "3.8.18"
  }
 },
 "nbformat": 4,
 "nbformat_minor": 5
}
