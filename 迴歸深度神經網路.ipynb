{
 "cells": [
  {
   "cell_type": "markdown",
   "id": "33987641",
   "metadata": {},
   "source": [
    "迴歸深度神經網路"
   ]
  },
  {
   "cell_type": "code",
   "execution_count": 7,
   "id": "77cd6e44",
   "metadata": {},
   "outputs": [],
   "source": [
    "import numpy as np\n",
    "import pandas as pd\n",
    "import matplotlib.pyplot as plt"
   ]
  },
  {
   "cell_type": "code",
   "execution_count": 8,
   "id": "59b52148",
   "metadata": {},
   "outputs": [
    {
     "name": "stdout",
     "output_type": "stream",
     "text": [
      "Downloading data from https://storage.googleapis.com/tensorflow/tf-keras-datasets/boston_housing.npz\n",
      "57026/57026 [==============================] - 0s 1us/step\n"
     ]
    }
   ],
   "source": [
    "from tensorflow.keras.datasets import boston_housing\n",
    "(x_train_set,y_train_set),(x_test,y_test)=boston_housing.load_data()"
   ]
  },
  {
   "cell_type": "code",
   "execution_count": 9,
   "id": "879149d6",
   "metadata": {},
   "outputs": [
    {
     "data": {
      "text/plain": [
       "((404, 13), (404,), (102, 13), (102,))"
      ]
     },
     "execution_count": 9,
     "metadata": {},
     "output_type": "execute_result"
    }
   ],
   "source": [
    "x_train_set.shape,y_train_set.shape,x_test.shape,y_test.shape"
   ]
  },
  {
   "cell_type": "code",
   "execution_count": 10,
   "id": "4f17f895",
   "metadata": {},
   "outputs": [],
   "source": [
    "from sklearn.model_selection import train_test_split\n",
    "\n",
    "x_train,x_valid,y_train,y_valid=train_test_split(\n",
    "    x_train_set,y_train_set,random_state=1)"
   ]
  },
  {
   "cell_type": "code",
   "execution_count": 11,
   "id": "107796db",
   "metadata": {},
   "outputs": [],
   "source": [
    "from sklearn.preprocessing import StandardScaler\n",
    "\n",
    "scal=StandardScaler()\n",
    "\n",
    "x_train=scal.fit_transform(x_train)\n",
    "\n",
    "x_valid=scal.transform(x_valid)\n",
    "x_test=scal.transform(x_test)\n"
   ]
  },
  {
   "cell_type": "code",
   "execution_count": 13,
   "id": "b33a9d56",
   "metadata": {},
   "outputs": [],
   "source": [
    "import tensorflow as tf\n",
    "from tensorflow import keras\n",
    "from tensorflow.keras.models import Sequential\n",
    "from tensorflow.keras.layers import Dense\n",
    "from tensorflow.keras.optimizers import SGD\n",
    "\n",
    "keras.backend.clear_session()\n",
    "np.random.seed(1)\n",
    "tf.random.set_seed(1)"
   ]
  },
  {
   "cell_type": "code",
   "execution_count": 15,
   "id": "c5159a62",
   "metadata": {},
   "outputs": [],
   "source": [
    "model=Sequential()\n",
    "model.add(Dense(units=100,activation='relu',input_shape=x_train.shape[1:]))\n",
    "model.add(Dense(units=50,activation='relu'))\n",
    "model.add(Dense(units=1))"
   ]
  },
  {
   "cell_type": "code",
   "execution_count": 16,
   "id": "c9e56c13",
   "metadata": {},
   "outputs": [
    {
     "name": "stdout",
     "output_type": "stream",
     "text": [
      "Model: \"sequential\"\n",
      "_________________________________________________________________\n",
      " Layer (type)                Output Shape              Param #   \n",
      "=================================================================\n",
      " dense (Dense)               (None, 100)               1400      \n",
      "                                                                 \n",
      " dense_1 (Dense)             (None, 50)                5050      \n",
      "                                                                 \n",
      " dense_2 (Dense)             (None, 1)                 51        \n",
      "                                                                 \n",
      "=================================================================\n",
      "Total params: 6501 (25.39 KB)\n",
      "Trainable params: 6501 (25.39 KB)\n",
      "Non-trainable params: 0 (0.00 Byte)\n",
      "_________________________________________________________________\n"
     ]
    }
   ],
   "source": [
    "model.summary()"
   ]
  },
  {
   "cell_type": "code",
   "execution_count": 21,
   "id": "4fb78527",
   "metadata": {},
   "outputs": [],
   "source": [
    "weight,biases=model.layers[1].get_weights()"
   ]
  },
  {
   "cell_type": "code",
   "execution_count": 22,
   "id": "6c27b0a8",
   "metadata": {},
   "outputs": [
    {
     "data": {
      "text/plain": [
       "((50,),\n",
       " array([0., 0., 0., 0., 0., 0., 0., 0., 0., 0., 0., 0., 0., 0., 0., 0., 0.,\n",
       "        0., 0., 0., 0., 0., 0., 0., 0., 0., 0., 0., 0., 0., 0., 0., 0., 0.,\n",
       "        0., 0., 0., 0., 0., 0., 0., 0., 0., 0., 0., 0., 0., 0., 0., 0.],\n",
       "       dtype=float32))"
      ]
     },
     "execution_count": 22,
     "metadata": {},
     "output_type": "execute_result"
    }
   ],
   "source": [
    "biases.shape,biases"
   ]
  },
  {
   "cell_type": "code",
   "execution_count": 27,
   "id": "473f977c",
   "metadata": {},
   "outputs": [
    {
     "data": {
      "text/plain": [
       "((100, 50),\n",
       " array([[-0.11814442,  0.13316055,  0.10354237, ...,  0.12816529,\n",
       "         -0.06518731,  0.14239822],\n",
       "        [-0.05914894, -0.06511664, -0.10015159, ...,  0.02939248,\n",
       "          0.10438193,  0.195361  ],\n",
       "        [ 0.05084862,  0.1648779 ,  0.07834961, ..., -0.0176011 ,\n",
       "         -0.14665493, -0.17094354],\n",
       "        ...,\n",
       "        [ 0.02391878,  0.13995405,  0.12478165, ...,  0.03315005,\n",
       "          0.07120471, -0.05625662],\n",
       "        [-0.12704048, -0.0962018 , -0.158497  , ..., -0.1408122 ,\n",
       "          0.15022828, -0.13126498],\n",
       "        [-0.17122002, -0.15362458, -0.09825611, ..., -0.09784718,\n",
       "         -0.09630819,  0.06367885]], dtype=float32))"
      ]
     },
     "execution_count": 27,
     "metadata": {},
     "output_type": "execute_result"
    }
   ],
   "source": [
    "weight.shape,weight"
   ]
  },
  {
   "cell_type": "code",
   "execution_count": 29,
   "id": "2f01d886",
   "metadata": {},
   "outputs": [],
   "source": [
    "model.compile(loss='mse',optimizer = tf.keras.optimizers.legacy.SGD(learning_rate=1e-3))"
   ]
  },
  {
   "cell_type": "code",
   "execution_count": 32,
   "id": "64b93c24",
   "metadata": {},
   "outputs": [
    {
     "name": "stdout",
     "output_type": "stream",
     "text": [
      "Epoch 1/20\n",
      "10/10 [==============================] - 0s 12ms/step - loss: 553.5458 - val_loss: 470.1112\n",
      "Epoch 2/20\n",
      "10/10 [==============================] - 0s 3ms/step - loss: 340.7614 - val_loss: 155.3038\n",
      "Epoch 3/20\n",
      "10/10 [==============================] - 0s 3ms/step - loss: 86.3385 - val_loss: 65.3759\n",
      "Epoch 4/20\n",
      "10/10 [==============================] - 0s 3ms/step - loss: 42.5444 - val_loss: 36.0319\n",
      "Epoch 5/20\n",
      "10/10 [==============================] - 0s 3ms/step - loss: 27.2309 - val_loss: 26.2682\n",
      "Epoch 6/20\n",
      "10/10 [==============================] - 0s 3ms/step - loss: 21.6992 - val_loss: 22.3923\n",
      "Epoch 7/20\n",
      "10/10 [==============================] - 0s 3ms/step - loss: 19.0200 - val_loss: 19.5449\n",
      "Epoch 8/20\n",
      "10/10 [==============================] - 0s 3ms/step - loss: 17.2666 - val_loss: 17.8286\n",
      "Epoch 9/20\n",
      "10/10 [==============================] - 0s 3ms/step - loss: 15.8185 - val_loss: 16.7044\n",
      "Epoch 10/20\n",
      "10/10 [==============================] - 0s 3ms/step - loss: 14.5569 - val_loss: 15.0104\n",
      "Epoch 11/20\n",
      "10/10 [==============================] - 0s 4ms/step - loss: 14.0480 - val_loss: 14.8268\n",
      "Epoch 12/20\n",
      "10/10 [==============================] - 0s 3ms/step - loss: 13.1327 - val_loss: 14.7792\n",
      "Epoch 13/20\n",
      "10/10 [==============================] - 0s 3ms/step - loss: 12.6174 - val_loss: 13.7604\n",
      "Epoch 14/20\n",
      "10/10 [==============================] - 0s 3ms/step - loss: 11.8977 - val_loss: 13.5617\n",
      "Epoch 15/20\n",
      "10/10 [==============================] - 0s 3ms/step - loss: 11.4096 - val_loss: 13.6562\n",
      "Epoch 16/20\n",
      "10/10 [==============================] - 0s 3ms/step - loss: 11.5466 - val_loss: 13.0026\n",
      "Epoch 17/20\n",
      "10/10 [==============================] - 0s 4ms/step - loss: 10.8914 - val_loss: 12.6419\n",
      "Epoch 18/20\n",
      "10/10 [==============================] - 0s 4ms/step - loss: 10.5162 - val_loss: 12.8020\n",
      "Epoch 19/20\n",
      "10/10 [==============================] - 0s 5ms/step - loss: 10.3724 - val_loss: 12.6764\n",
      "Epoch 20/20\n",
      "10/10 [==============================] - 0s 5ms/step - loss: 9.9919 - val_loss: 12.0341\n"
     ]
    }
   ],
   "source": [
    "train=model.fit(x_train,y_train,\n",
    "                epochs=20,\n",
    "                validation_data=(x_valid,y_valid))"
   ]
  },
  {
   "cell_type": "code",
   "execution_count": 33,
   "id": "a2b9b06d",
   "metadata": {},
   "outputs": [
    {
     "data": {
      "image/png": "[encoded data removed]",
      "text/plain": [
       "<Figure size 640x480 with 1 Axes>"
      ]
     },
     "metadata": {},
     "output_type": "display_data"
    }
   ],
   "source": [
    "pd.DataFrame(train.history).plot()\n",
    "plt.grid(True)\n",
    "plt.show()"
   ]
  },
  {
   "cell_type": "code",
   "execution_count": 34,
   "id": "0ae27a19",
   "metadata": {},
   "outputs": [
    {
     "name": "stdout",
     "output_type": "stream",
     "text": [
      "4/4 [==============================] - 0s 1ms/step - loss: 21.8304\n"
     ]
    },
    {
     "data": {
      "text/plain": [
       "21.830352783203125"
      ]
     },
     "execution_count": 34,
     "metadata": {},
     "output_type": "execute_result"
    }
   ],
   "source": [
    "model.evaluate(x_test,y_test)"
   ]
  },
  {
   "cell_type": "code",
   "execution_count": 35,
   "id": "43a4bf23",
   "metadata": {},
   "outputs": [
    {
     "name": "stdout",
     "output_type": "stream",
     "text": [
      "1/1 [==============================] - 0s 102ms/step\n"
     ]
    },
    {
     "data": {
      "text/plain": [
       "array([[ 8.226031],\n",
       "       [16.863625],\n",
       "       [21.532545]], dtype=float32)"
      ]
     },
     "execution_count": 35,
     "metadata": {},
     "output_type": "execute_result"
    }
   ],
   "source": [
    "model.predict(x_test[:3])"
   ]
  },
  {
   "cell_type": "code",
   "execution_count": 36,
   "id": "e4e44024",
   "metadata": {},
   "outputs": [
    {
     "data": {
      "text/plain": [
       "array([ 7.2, 18.8, 19. ])"
      ]
     },
     "execution_count": 36,
     "metadata": {},
     "output_type": "execute_result"
    }
   ],
   "source": [
    "y_test[:3]"
   ]
  },
  {
   "cell_type": "markdown",
   "id": "2b77f930",
   "metadata": {},
   "source": [
    "分類深度神經網路"
   ]
  },
  {
   "cell_type": "code",
   "execution_count": 38,
   "id": "40a0bd11",
   "metadata": {},
   "outputs": [],
   "source": [
    "import numpy as np\n",
    "import pandas as pd\n",
    "import matplotlib.pyplot as plt"
   ]
  },
  {
   "cell_type": "code",
   "execution_count": 46,
   "id": "6f72f3f1",
   "metadata": {},
   "outputs": [
    {
     "name": "stdout",
     "output_type": "stream",
     "text": [
      "Downloading data from https://storage.googleapis.com/tensorflow/tf-keras-datasets/train-labels-idx1-ubyte.gz\n",
      "29515/29515 [==============================] - 0s 1us/step\n",
      "Downloading data from https://storage.googleapis.com/tensorflow/tf-keras-datasets/train-images-idx3-ubyte.gz\n",
      "26421880/26421880 [==============================] - 11s 0us/step\n",
      "Downloading data from https://storage.googleapis.com/tensorflow/tf-keras-datasets/t10k-labels-idx1-ubyte.gz\n",
      "5148/5148 [==============================] - 0s 0us/step\n",
      "Downloading data from https://storage.googleapis.com/tensorflow/tf-keras-datasets/t10k-images-idx3-ubyte.gz\n",
      "4422102/4422102 [==============================] - 2s 0us/step\n"
     ]
    }
   ],
   "source": [
    "from tensorflow.keras.datasets import fashion_mnist\n",
    "(x_train_set,y_train_set),(x_test,y_test)=fashion_mnist.load_data()"
   ]
  },
  {
   "cell_type": "code",
   "execution_count": 47,
   "id": "8026f3d0",
   "metadata": {},
   "outputs": [
    {
     "data": {
      "text/plain": [
       "((60000, 28, 28), (60000,), (10000, 28, 28), (10000,))"
      ]
     },
     "execution_count": 47,
     "metadata": {},
     "output_type": "execute_result"
    }
   ],
   "source": [
    "x_train_set.shape,y_train_set.shape,x_test.shape,y_test.shape"
   ]
  },
  {
   "cell_type": "code",
   "execution_count": 48,
   "id": "4bcf3aa2",
   "metadata": {},
   "outputs": [
    {
     "name": "stdout",
     "output_type": "stream",
     "text": [
      "9\n"
     ]
    },
    {
     "data": {
      "image/png": "[encoded data removed]",
      "text/plain": [
       "<Figure size 640x480 with 1 Axes>"
      ]
     },
     "metadata": {},
     "output_type": "display_data"
    }
   ],
   "source": [
    "i=0\n",
    "print(y_train_set[i])\n",
    "plt.imshow(x_train_set[i],cmap='binary')\n",
    "plt.show()"
   ]
  },
  {
   "cell_type": "code",
   "execution_count": 49,
   "id": "231616c1",
   "metadata": {},
   "outputs": [],
   "source": [
    "from sklearn.model_selection import train_test_split\n",
    "\n",
    "x_train,x_valid,y_train,y_valid=train_test_split(\n",
    "    x_train_set,y_train_set,random_state=1)"
   ]
  },
  {
   "cell_type": "code",
   "execution_count": 50,
   "id": "31ed5008",
   "metadata": {},
   "outputs": [],
   "source": [
    "x_train=x_train/225.0\n",
    "x_valid=x_valid/225.0\n",
    "x_test=x_test/225.0"
   ]
  },
  {
   "cell_type": "code",
   "execution_count": 51,
   "id": "5307ce2c",
   "metadata": {},
   "outputs": [],
   "source": [
    "import tensorflow as tf\n",
    "from tensorflow import keras\n",
    "from tensorflow.keras.models import Sequential\n",
    "from tensorflow.keras.layers import Flatten,Dense\n",
    "\n",
    "keras.backend.clear_session()\n",
    "np.random.seed(1)\n",
    "tf.random.set_seed(1)"
   ]
  },
  {
   "cell_type": "code",
   "execution_count": 52,
   "id": "e3b3d1d8",
   "metadata": {},
   "outputs": [],
   "source": [
    "model=Sequential([\n",
    "    Flatten(input_shape=x_train.shape[1:]),\n",
    "    Dense(units=300,activation='relu'),\n",
    "    Dense(units=200,activation='relu'),\n",
    "    Dense(units=100,activation='relu'),\n",
    "    Dense(units=10,activation='softmax'),\n",
    "])"
   ]
  },
  {
   "cell_type": "code",
   "execution_count": 53,
   "id": "dc825d6b",
   "metadata": {},
   "outputs": [
    {
     "name": "stdout",
     "output_type": "stream",
     "text": [
      "Model: \"sequential\"\n",
      "_________________________________________________________________\n",
      " Layer (type)                Output Shape              Param #   \n",
      "=================================================================\n",
      " flatten (Flatten)           (None, 784)               0         \n",
      "                                                                 \n",
      " dense (Dense)               (None, 300)               235500    \n",
      "                                                                 \n",
      " dense_1 (Dense)             (None, 200)               60200     \n",
      "                                                                 \n",
      " dense_2 (Dense)             (None, 100)               20100     \n",
      "                                                                 \n",
      " dense_3 (Dense)             (None, 10)                1010      \n",
      "                                                                 \n",
      "=================================================================\n",
      "Total params: 316810 (1.21 MB)\n",
      "Trainable params: 316810 (1.21 MB)\n",
      "Non-trainable params: 0 (0.00 Byte)\n",
      "_________________________________________________________________\n"
     ]
    }
   ],
   "source": [
    "model.summary()"
   ]
  },
  {
   "cell_type": "code",
   "execution_count": 54,
   "id": "009f3feb",
   "metadata": {},
   "outputs": [],
   "source": [
    "model.compile(loss='sparse_categorical_crossentropy',optimizer = 'sgd',metrics=['accuracy'])"
   ]
  },
  {
   "cell_type": "code",
   "execution_count": 55,
   "id": "1ed8b2f0",
   "metadata": {},
   "outputs": [
    {
     "name": "stdout",
     "output_type": "stream",
     "text": [
      "Epoch 1/20\n",
      "1407/1407 [==============================] - 3s 2ms/step - loss: 0.7350 - accuracy: 0.7561 - val_loss: 0.6529 - val_accuracy: 0.7769\n",
      "Epoch 2/20\n",
      "1407/1407 [==============================] - 2s 2ms/step - loss: 0.4906 - accuracy: 0.8283 - val_loss: 0.5012 - val_accuracy: 0.8210\n",
      "Epoch 3/20\n",
      "1407/1407 [==============================] - 2s 2ms/step - loss: 0.4389 - accuracy: 0.8449 - val_loss: 0.4515 - val_accuracy: 0.8392\n",
      "Epoch 4/20\n",
      "1407/1407 [==============================] - 2s 2ms/step - loss: 0.4076 - accuracy: 0.8557 - val_loss: 0.4167 - val_accuracy: 0.8504\n",
      "Epoch 5/20\n",
      "1407/1407 [==============================] - 2s 2ms/step - loss: 0.3855 - accuracy: 0.8632 - val_loss: 1.0123 - val_accuracy: 0.6660\n",
      "Epoch 6/20\n",
      "1407/1407 [==============================] - 2s 2ms/step - loss: 0.3664 - accuracy: 0.8712 - val_loss: 0.6405 - val_accuracy: 0.7969\n",
      "Epoch 7/20\n",
      "1407/1407 [==============================] - 2s 2ms/step - loss: 0.3495 - accuracy: 0.8744 - val_loss: 0.3902 - val_accuracy: 0.8565\n",
      "Epoch 8/20\n",
      "1407/1407 [==============================] - 2s 2ms/step - loss: 0.3375 - accuracy: 0.8796 - val_loss: 0.3969 - val_accuracy: 0.8527\n",
      "Epoch 9/20\n",
      "1407/1407 [==============================] - 2s 2ms/step - loss: 0.3245 - accuracy: 0.8829 - val_loss: 0.3890 - val_accuracy: 0.8615\n",
      "Epoch 10/20\n",
      "1407/1407 [==============================] - 2s 2ms/step - loss: 0.3138 - accuracy: 0.8860 - val_loss: 0.4669 - val_accuracy: 0.8411\n",
      "Epoch 11/20\n",
      "1407/1407 [==============================] - 2s 2ms/step - loss: 0.3049 - accuracy: 0.8901 - val_loss: 0.3503 - val_accuracy: 0.8787\n",
      "Epoch 12/20\n",
      "1407/1407 [==============================] - 2s 2ms/step - loss: 0.2955 - accuracy: 0.8943 - val_loss: 0.4450 - val_accuracy: 0.8364\n",
      "Epoch 13/20\n",
      "1407/1407 [==============================] - 2s 2ms/step - loss: 0.2872 - accuracy: 0.8964 - val_loss: 0.3443 - val_accuracy: 0.8741\n",
      "Epoch 14/20\n",
      "1407/1407 [==============================] - 2s 2ms/step - loss: 0.2786 - accuracy: 0.9000 - val_loss: 0.3447 - val_accuracy: 0.8754\n",
      "Epoch 15/20\n",
      "1407/1407 [==============================] - 2s 2ms/step - loss: 0.2716 - accuracy: 0.9007 - val_loss: 0.3494 - val_accuracy: 0.8733\n",
      "Epoch 16/20\n",
      "1407/1407 [==============================] - 2s 2ms/step - loss: 0.2649 - accuracy: 0.9036 - val_loss: 0.3396 - val_accuracy: 0.8743\n",
      "Epoch 17/20\n",
      "1407/1407 [==============================] - 2s 2ms/step - loss: 0.2585 - accuracy: 0.9047 - val_loss: 0.3614 - val_accuracy: 0.8717\n",
      "Epoch 18/20\n",
      "1407/1407 [==============================] - 2s 2ms/step - loss: 0.2514 - accuracy: 0.9079 - val_loss: 0.3462 - val_accuracy: 0.8765\n",
      "Epoch 19/20\n",
      "1407/1407 [==============================] - 3s 2ms/step - loss: 0.2454 - accuracy: 0.9109 - val_loss: 0.3135 - val_accuracy: 0.8883\n",
      "Epoch 20/20\n",
      "1407/1407 [==============================] - 2s 2ms/step - loss: 0.2386 - accuracy: 0.9122 - val_loss: 0.3146 - val_accuracy: 0.8887\n"
     ]
    }
   ],
   "source": [
    "train=model.fit(x_train,y_train,\n",
    "                epochs=20,\n",
    "                validation_data=(x_valid,y_valid))"
   ]
  },
  {
   "cell_type": "code",
   "execution_count": 56,
   "id": "fb8f1fd6",
   "metadata": {},
   "outputs": [
    {
     "data": {
      "image/png": "[encoded data removed]",
      "text/plain": [
       "<Figure size 640x480 with 1 Axes>"
      ]
     },
     "metadata": {},
     "output_type": "display_data"
    }
   ],
   "source": [
    "pd.DataFrame(train.history).plot()\n",
    "plt.grid(True)\n",
    "plt.show()"
   ]
  },
  {
   "cell_type": "code",
   "execution_count": 57,
   "id": "cbe5effd",
   "metadata": {},
   "outputs": [
    {
     "name": "stdout",
     "output_type": "stream",
     "text": [
      "313/313 [==============================] - 0s 1ms/step - loss: 0.3459 - accuracy: 0.8791\n"
     ]
    },
    {
     "data": {
      "text/plain": [
       "[0.3458826541900635, 0.8791000247001648]"
      ]
     },
     "execution_count": 57,
     "metadata": {},
     "output_type": "execute_result"
    }
   ],
   "source": [
    "model.evaluate(x_test,y_test)"
   ]
  },
  {
   "cell_type": "code",
   "execution_count": 59,
   "id": "f0f1c388",
   "metadata": {},
   "outputs": [
    {
     "name": "stdout",
     "output_type": "stream",
     "text": [
      "313/313 [==============================] - 0s 839us/step\n"
     ]
    },
    {
     "data": {
      "text/plain": [
       "array([[0.  , 0.  , 0.  , 0.  , 0.  , 0.  , 0.  , 0.05, 0.  , 0.95],\n",
       "       [0.  , 0.  , 0.99, 0.  , 0.  , 0.  , 0.01, 0.  , 0.  , 0.  ],\n",
       "       [0.  , 1.  , 0.  , 0.  , 0.  , 0.  , 0.  , 0.  , 0.  , 0.  ]],\n",
       "      dtype=float32)"
      ]
     },
     "execution_count": 59,
     "metadata": {},
     "output_type": "execute_result"
    }
   ],
   "source": [
    "y_proba=model.predict(x_test)\n",
    "y_proba[:3].round(2)"
   ]
  },
  {
   "cell_type": "code",
   "execution_count": 60,
   "id": "ccc65e87",
   "metadata": {},
   "outputs": [
    {
     "data": {
      "text/plain": [
       "array([9, 2, 1])"
      ]
     },
     "execution_count": 60,
     "metadata": {},
     "output_type": "execute_result"
    }
   ],
   "source": [
    "y_pred=np.argmax(y_proba,axis=1)\n",
    "y_pred[:3]"
   ]
  },
  {
   "cell_type": "code",
   "execution_count": 61,
   "id": "9d49b74b",
   "metadata": {},
   "outputs": [
    {
     "data": {
      "text/plain": [
       "array([9, 2, 1], dtype=uint8)"
      ]
     },
     "execution_count": 61,
     "metadata": {},
     "output_type": "execute_result"
    }
   ],
   "source": [
    "y_test[:3]"
   ]
  },
  {
   "cell_type": "code",
   "execution_count": 62,
   "id": "a6f23adc",
   "metadata": {},
   "outputs": [
    {
     "data": {
      "text/plain": [
       "array([[792,   0,  15,  45,   4,   1, 126,   0,  17,   0],\n",
       "       [  2, 963,   0,  28,   3,   0,   2,   0,   2,   0],\n",
       "       [ 12,   0, 767,  21,  93,   2,  97,   0,   8,   0],\n",
       "       [ 10,   4,   7, 938,  14,   0,  22,   0,   4,   1],\n",
       "       [  0,   1,  83,  59, 782,   0,  68,   0,   7,   0],\n",
       "       [  0,   0,   0,   1,   0, 957,   0,  30,   3,   9],\n",
       "       [ 99,   1,  62,  40,  60,   0, 721,   0,  17,   0],\n",
       "       [  0,   0,   0,   0,   0,  18,   0, 971,   1,  10],\n",
       "       [  4,   0,   1,   8,   4,   2,   3,   4, 974,   0],\n",
       "       [  0,   0,   0,   0,   0,  11,   1,  62,   0, 926]])"
      ]
     },
     "execution_count": 62,
     "metadata": {},
     "output_type": "execute_result"
    }
   ],
   "source": [
    "from sklearn.metrics import confusion_matrix\n",
    "confusion_matrix(y_test,y_pred)"
   ]
  },
  {
   "cell_type": "code",
   "execution_count": null,
   "id": "7c0f0413",
   "metadata": {},
   "outputs": [],
   "source": []
  }
 ],
 "metadata": {
  "kernelspec": {
   "display_name": "Python 3 (ipykernel)",
   "language": "python",
   "name": "python3"
  },
  "language_info": {
   "codemirror_mode": {
    "name": "ipython",
    "version": 3
   },
   "file_extension": ".py",
   "mimetype": "text/x-python",
   "name": "python",
   "nbconvert_exporter": "python",
   "pygments_lexer": "ipython3",
   "version": "3.8.18"
  }
 },
 "nbformat": 4,
 "nbformat_minor": 5
}
