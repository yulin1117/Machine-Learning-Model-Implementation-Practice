{
 "cells": [
  {
   "cell_type": "markdown",
   "id": "8a77e521",
   "metadata": {},
   "source": [
    "1.Weight initialization"
   ]
  },
  {
   "cell_type": "code",
   "execution_count": 1,
   "id": "77cd6e44",
   "metadata": {},
   "outputs": [],
   "source": [
    "import numpy as np\n",
    "import pandas as pd\n",
    "import matplotlib.pyplot as plt\n",
    "import tensorflow as tf\n",
    "from tensorflow import keras"
   ]
  },
  {
   "cell_type": "code",
   "execution_count": 3,
   "id": "59b52148",
   "metadata": {},
   "outputs": [
    {
     "data": {
      "text/plain": [
       "['Constant',\n",
       " 'GlorotNormal',\n",
       " 'GlorotUniform',\n",
       " 'HeNormal',\n",
       " 'HeUniform',\n",
       " 'Identity',\n",
       " 'Initializer',\n",
       " 'LecunNormal',\n",
       " 'LecunUniform',\n",
       " 'Ones',\n",
       " 'Orthogonal',\n",
       " 'RandomNormal',\n",
       " 'RandomUniform',\n",
       " 'TruncatedNormal',\n",
       " 'VarianceScaling',\n",
       " 'Zeros',\n",
       " 'constant',\n",
       " 'deserialize',\n",
       " 'get',\n",
       " 'glorot_normal',\n",
       " 'glorot_uniform',\n",
       " 'he_normal',\n",
       " 'he_uniform',\n",
       " 'identity',\n",
       " 'lecun_normal',\n",
       " 'lecun_uniform',\n",
       " 'ones',\n",
       " 'orthogonal',\n",
       " 'random_normal',\n",
       " 'random_uniform',\n",
       " 'serialize',\n",
       " 'truncated_normal',\n",
       " 'variance_scaling',\n",
       " 'zeros']"
      ]
     },
     "execution_count": 3,
     "metadata": {},
     "output_type": "execute_result"
    }
   ],
   "source": [
    "[name for name in dir(keras.initializers) if not name.startswith('_')]"
   ]
  },
  {
   "cell_type": "code",
   "execution_count": 4,
   "id": "879149d6",
   "metadata": {},
   "outputs": [
    {
     "data": {
      "text/plain": [
       "<keras.src.layers.core.dense.Dense at 0x167d76790>"
      ]
     },
     "execution_count": 4,
     "metadata": {},
     "output_type": "execute_result"
    }
   ],
   "source": [
    "keras.layers.Dense(units=10,\n",
    "                   activation='relu',\n",
    "                   kernel_initializer='he_normal')"
   ]
  },
  {
   "cell_type": "markdown",
   "id": "b92f5cf3",
   "metadata": {},
   "source": [
    "2. Activation function"
   ]
  },
  {
   "cell_type": "code",
   "execution_count": 5,
   "id": "4f17f895",
   "metadata": {},
   "outputs": [
    {
     "data": {
      "text/plain": [
       "['deserialize',\n",
       " 'elu',\n",
       " 'exponential',\n",
       " 'gelu',\n",
       " 'get',\n",
       " 'hard_sigmoid',\n",
       " 'linear',\n",
       " 'mish',\n",
       " 'relu',\n",
       " 'selu',\n",
       " 'serialize',\n",
       " 'sigmoid',\n",
       " 'softmax',\n",
       " 'softplus',\n",
       " 'softsign',\n",
       " 'swish',\n",
       " 'tanh']"
      ]
     },
     "execution_count": 5,
     "metadata": {},
     "output_type": "execute_result"
    }
   ],
   "source": [
    "[name for name in dir(keras.activations) if not name.startswith('_')]"
   ]
  },
  {
   "cell_type": "code",
   "execution_count": 6,
   "id": "107796db",
   "metadata": {},
   "outputs": [
    {
     "data": {
      "text/plain": [
       "<keras.src.layers.core.dense.Dense at 0x168151b20>"
      ]
     },
     "execution_count": 6,
     "metadata": {},
     "output_type": "execute_result"
    }
   ],
   "source": [
    "keras.layers.Dense(10,\n",
    "                  activation='selu',\n",
    "                  kernel_initializer='lecun_normal')"
   ]
  },
  {
   "cell_type": "markdown",
   "id": "8a1a0fdd",
   "metadata": {},
   "source": [
    "Method 2 keras.layers"
   ]
  },
  {
   "cell_type": "code",
   "execution_count": 8,
   "id": "b33a9d56",
   "metadata": {},
   "outputs": [
    {
     "data": {
      "text/plain": [
       "['ELU', 'LeakyReLU', 'PReLU', 'ReLU', 'ThresholdedReLU']"
      ]
     },
     "execution_count": 8,
     "metadata": {},
     "output_type": "execute_result"
    }
   ],
   "source": [
    "[name for name in dir(keras.layers) if 'elu' in name.lower()]"
   ]
  },
  {
   "cell_type": "code",
   "execution_count": 12,
   "id": "c5159a62",
   "metadata": {},
   "outputs": [
    {
     "data": {
      "text/plain": [
       "(<keras.src.layers.activation.leaky_relu.LeakyReLU at 0x168afca90>,)"
      ]
     },
     "execution_count": 12,
     "metadata": {},
     "output_type": "execute_result"
    }
   ],
   "source": [
    "keras.layers.Dense(300,\n",
    "                  kernel_initializer='he_normal'),\n",
    "keras.layers.LeakyReLU(alpha=0.3),"
   ]
  },
  {
   "cell_type": "code",
   "execution_count": 13,
   "id": "c9e56c13",
   "metadata": {},
   "outputs": [
    {
     "data": {
      "text/plain": [
       "(<keras.src.layers.core.activation.Activation at 0x168afc790>,)"
      ]
     },
     "execution_count": 13,
     "metadata": {},
     "output_type": "execute_result"
    }
   ],
   "source": [
    "keras.layers.Dense(300,\n",
    "                  kernel_initializer='he_normal'),\n",
    "keras.layers.Activation('relu'),"
   ]
  },
  {
   "cell_type": "markdown",
   "id": "d155df6d",
   "metadata": {},
   "source": [
    "ex1"
   ]
  },
  {
   "cell_type": "code",
   "execution_count": 19,
   "id": "6c27b0a8",
   "metadata": {},
   "outputs": [],
   "source": [
    "#Load data\n",
    "from tensorflow.keras.datasets import fashion_mnist\n",
    "(x_train_set,y_train_set),(x_test,y_test)=fashion_mnist.load_data()\n",
    "#Split data\n",
    "from sklearn.model_selection import train_test_split\n",
    "x_train,x_valid,y_train,y_valid=train_test_split(\n",
    "    x_train_set,y_train_set,random_state=1)\n",
    "#Preprocessing\n",
    "x_train=x_train/255\n",
    "x_valid=x_valid/255\n",
    "x_test=x_test/255"
   ]
  },
  {
   "cell_type": "code",
   "execution_count": 20,
   "id": "473f977c",
   "metadata": {},
   "outputs": [],
   "source": [
    "tf.keras.backend.clear_session()\n",
    "np.random.seed(1)\n",
    "tf.random.set_seed(1)"
   ]
  },
  {
   "cell_type": "code",
   "execution_count": 24,
   "id": "2f01d886",
   "metadata": {},
   "outputs": [],
   "source": [
    "model=keras.models.Sequential([\n",
    "    keras.layers.Flatten(input_shape=[28,28]),\n",
    "    keras.layers.Dense(300,activation='relu',kernel_initializer='he_normal'),\n",
    "    keras.layers.Dense(200,kernel_initializer='he_normal'),\n",
    "    keras.layers.LeakyReLU(alpha=0.01),\n",
    "    keras.layers.Dense(100,kernel_initializer='he_normal'),\n",
    "    keras.layers.PReLU(),\n",
    "    keras.layers.Dense(10,activation='softmax')])"
   ]
  },
  {
   "cell_type": "code",
   "execution_count": 25,
   "id": "64b93c24",
   "metadata": {},
   "outputs": [
    {
     "name": "stdout",
     "output_type": "stream",
     "text": [
      "Model: \"sequential\"\n",
      "_________________________________________________________________\n",
      " Layer (type)                Output Shape              Param #   \n",
      "=================================================================\n",
      " flatten (Flatten)           (None, 784)               0         \n",
      "                                                                 \n",
      " dense (Dense)               (None, 300)               235500    \n",
      "                                                                 \n",
      " dense_1 (Dense)             (None, 200)               60200     \n",
      "                                                                 \n",
      " leaky_re_lu (LeakyReLU)     (None, 200)               0         \n",
      "                                                                 \n",
      " dense_2 (Dense)             (None, 100)               20100     \n",
      "                                                                 \n",
      " p_re_lu (PReLU)             (None, 100)               100       \n",
      "                                                                 \n",
      " dense_3 (Dense)             (None, 10)                1010      \n",
      "                                                                 \n",
      "=================================================================\n",
      "Total params: 316910 (1.21 MB)\n",
      "Trainable params: 316910 (1.21 MB)\n",
      "Non-trainable params: 0 (0.00 Byte)\n",
      "_________________________________________________________________\n"
     ]
    }
   ],
   "source": [
    "model.summary()"
   ]
  },
  {
   "cell_type": "code",
   "execution_count": 28,
   "id": "a2b9b06d",
   "metadata": {},
   "outputs": [],
   "source": [
    "model.compile(loss='sparse_categorical_crossentropy',\n",
    "              optimizer='sgd',metrics=['accuracy'])"
   ]
  },
  {
   "cell_type": "code",
   "execution_count": 29,
   "id": "0ae27a19",
   "metadata": {},
   "outputs": [
    {
     "name": "stdout",
     "output_type": "stream",
     "text": [
      "Epoch 1/2\n",
      "1407/1407 [==============================] - 2s 2ms/step - loss: 0.6898 - accuracy: 0.7701 - val_loss: 0.5831 - val_accuracy: 0.7995\n",
      "Epoch 2/2\n",
      "1407/1407 [==============================] - 2s 1ms/step - loss: 0.4741 - accuracy: 0.8352 - val_loss: 0.4997 - val_accuracy: 0.8245\n"
     ]
    }
   ],
   "source": [
    "train=model.fit(x_train,y_train,\n",
    "                epochs=2,\n",
    "                validation_data=(x_valid,y_valid))"
   ]
  },
  {
   "cell_type": "markdown",
   "id": "93ee3c8a",
   "metadata": {},
   "source": [
    "3.BatchNormalization"
   ]
  },
  {
   "cell_type": "code",
   "execution_count": 31,
   "id": "e4e44024",
   "metadata": {},
   "outputs": [
    {
     "data": {
      "text/plain": [
       "(<keras.src.layers.normalization.batch_normalization.BatchNormalization at 0x2c0139d00>,)"
      ]
     },
     "execution_count": 31,
     "metadata": {},
     "output_type": "execute_result"
    }
   ],
   "source": [
    "keras.layers.Dense(300,activation='relu'),\n",
    "keras.layers.BatchNormalization(),"
   ]
  },
  {
   "cell_type": "code",
   "execution_count": 32,
   "id": "21d7b8f8",
   "metadata": {},
   "outputs": [],
   "source": [
    "model=keras.models.Sequential([\n",
    "    keras.layers.Flatten(input_shape=[28,28]),\n",
    "    keras.layers.BatchNormalization(),\n",
    "    keras.layers.Dense(200,activation='relu',kernel_initializer='he_normal'),\n",
    "    keras.layers.BatchNormalization(),\n",
    "    keras.layers.Dense(100,activation='relu',kernel_initializer='he_normal'),\n",
    "    keras.layers.BatchNormalization(),\n",
    "    keras.layers.Dense(10,activation='softmax')])"
   ]
  },
  {
   "cell_type": "code",
   "execution_count": 33,
   "id": "40a0bd11",
   "metadata": {},
   "outputs": [
    {
     "name": "stdout",
     "output_type": "stream",
     "text": [
      "Model: \"sequential_1\"\n",
      "_________________________________________________________________\n",
      " Layer (type)                Output Shape              Param #   \n",
      "=================================================================\n",
      " flatten_1 (Flatten)         (None, 784)               0         \n",
      "                                                                 \n",
      " batch_normalization_1 (Bat  (None, 784)               3136      \n",
      " chNormalization)                                                \n",
      "                                                                 \n",
      " dense_5 (Dense)             (None, 200)               157000    \n",
      "                                                                 \n",
      " batch_normalization_2 (Bat  (None, 200)               800       \n",
      " chNormalization)                                                \n",
      "                                                                 \n",
      " dense_6 (Dense)             (None, 100)               20100     \n",
      "                                                                 \n",
      " batch_normalization_3 (Bat  (None, 100)               400       \n",
      " chNormalization)                                                \n",
      "                                                                 \n",
      " dense_7 (Dense)             (None, 10)                1010      \n",
      "                                                                 \n",
      "=================================================================\n",
      "Total params: 182446 (712.68 KB)\n",
      "Trainable params: 180278 (704.21 KB)\n",
      "Non-trainable params: 2168 (8.47 KB)\n",
      "_________________________________________________________________\n"
     ]
    }
   ],
   "source": [
    "model.summary()"
   ]
  },
  {
   "cell_type": "code",
   "execution_count": 34,
   "id": "6f72f3f1",
   "metadata": {},
   "outputs": [],
   "source": [
    "model.compile(loss='sparse_categorical_crossentropy',\n",
    "              optimizer='sgd',metrics=['accuracy'])"
   ]
  },
  {
   "cell_type": "code",
   "execution_count": 35,
   "id": "8026f3d0",
   "metadata": {},
   "outputs": [
    {
     "name": "stdout",
     "output_type": "stream",
     "text": [
      "Epoch 1/2\n",
      "1407/1407 [==============================] - 2s 1ms/step - loss: 0.5847 - accuracy: 0.7962 - val_loss: 0.4305 - val_accuracy: 0.8483\n",
      "Epoch 2/2\n",
      "1407/1407 [==============================] - 2s 1ms/step - loss: 0.4271 - accuracy: 0.8481 - val_loss: 0.3799 - val_accuracy: 0.8668\n"
     ]
    }
   ],
   "source": [
    "train=model.fit(x_train,y_train,\n",
    "                epochs=2,\n",
    "                validation_data=(x_valid,y_valid))"
   ]
  },
  {
   "cell_type": "markdown",
   "id": "2767cf3f",
   "metadata": {},
   "source": [
    "Method 2 :Before activation function"
   ]
  },
  {
   "cell_type": "code",
   "execution_count": 36,
   "id": "231616c1",
   "metadata": {},
   "outputs": [
    {
     "data": {
      "text/plain": [
       "<keras.src.layers.core.activation.Activation at 0x2c90ecf70>"
      ]
     },
     "execution_count": 36,
     "metadata": {},
     "output_type": "execute_result"
    }
   ],
   "source": [
    "keras.layers.Dense(300,use_bias=False),\n",
    "keras.layers.BatchNormalization(),\n",
    "keras.layers.Activation('relu')"
   ]
  },
  {
   "cell_type": "code",
   "execution_count": 37,
   "id": "31ed5008",
   "metadata": {},
   "outputs": [],
   "source": [
    "model=keras.models.Sequential([\n",
    "    keras.layers.Flatten(input_shape=[28,28]),\n",
    "    keras.layers.BatchNormalization(),\n",
    "    keras.layers.Dense(200,use_bias=False),\n",
    "    keras.layers.BatchNormalization(),\n",
    "    keras.layers.Activation('relu'),\n",
    "    keras.layers.Dense(100,use_bias=False),\n",
    "    keras.layers.BatchNormalization(),\n",
    "    keras.layers.LeakyReLU(alpha=0.3),\n",
    "    keras.layers.Dense(10,activation='softmax')])"
   ]
  },
  {
   "cell_type": "code",
   "execution_count": 38,
   "id": "5307ce2c",
   "metadata": {},
   "outputs": [
    {
     "name": "stdout",
     "output_type": "stream",
     "text": [
      "Model: \"sequential_2\"\n",
      "_________________________________________________________________\n",
      " Layer (type)                Output Shape              Param #   \n",
      "=================================================================\n",
      " flatten_2 (Flatten)         (None, 784)               0         \n",
      "                                                                 \n",
      " batch_normalization_5 (Bat  (None, 784)               3136      \n",
      " chNormalization)                                                \n",
      "                                                                 \n",
      " dense_9 (Dense)             (None, 200)               156800    \n",
      "                                                                 \n",
      " batch_normalization_6 (Bat  (None, 200)               800       \n",
      " chNormalization)                                                \n",
      "                                                                 \n",
      " activation_1 (Activation)   (None, 200)               0         \n",
      "                                                                 \n",
      " dense_10 (Dense)            (None, 100)               20000     \n",
      "                                                                 \n",
      " batch_normalization_7 (Bat  (None, 100)               400       \n",
      " chNormalization)                                                \n",
      "                                                                 \n",
      " leaky_re_lu_1 (LeakyReLU)   (None, 100)               0         \n",
      "                                                                 \n",
      " dense_11 (Dense)            (None, 10)                1010      \n",
      "                                                                 \n",
      "=================================================================\n",
      "Total params: 182146 (711.51 KB)\n",
      "Trainable params: 179978 (703.04 KB)\n",
      "Non-trainable params: 2168 (8.47 KB)\n",
      "_________________________________________________________________\n"
     ]
    }
   ],
   "source": [
    "model.summary()"
   ]
  },
  {
   "cell_type": "code",
   "execution_count": 52,
   "id": "e3b3d1d8",
   "metadata": {},
   "outputs": [],
   "source": [
    "model=Sequential([\n",
    "    Flatten(input_shape=x_train.shape[1:]),\n",
    "    Dense(units=300,activation='relu'),\n",
    "    Dense(units=200,activation='relu'),\n",
    "    Dense(units=100,activation='relu'),\n",
    "    Dense(units=10,activation='softmax'),\n",
    "])"
   ]
  },
  {
   "cell_type": "code",
   "execution_count": 53,
   "id": "dc825d6b",
   "metadata": {},
   "outputs": [
    {
     "name": "stdout",
     "output_type": "stream",
     "text": [
      "Model: \"sequential\"\n",
      "_________________________________________________________________\n",
      " Layer (type)                Output Shape              Param #   \n",
      "=================================================================\n",
      " flatten (Flatten)           (None, 784)               0         \n",
      "                                                                 \n",
      " dense (Dense)               (None, 300)               235500    \n",
      "                                                                 \n",
      " dense_1 (Dense)             (None, 200)               60200     \n",
      "                                                                 \n",
      " dense_2 (Dense)             (None, 100)               20100     \n",
      "                                                                 \n",
      " dense_3 (Dense)             (None, 10)                1010      \n",
      "                                                                 \n",
      "=================================================================\n",
      "Total params: 316810 (1.21 MB)\n",
      "Trainable params: 316810 (1.21 MB)\n",
      "Non-trainable params: 0 (0.00 Byte)\n",
      "_________________________________________________________________\n"
     ]
    }
   ],
   "source": [
    "model.summary()"
   ]
  },
  {
   "cell_type": "code",
   "execution_count": 39,
   "id": "009f3feb",
   "metadata": {},
   "outputs": [],
   "source": [
    "model.compile(loss='sparse_categorical_crossentropy',optimizer = 'sgd',metrics=['accuracy'])"
   ]
  },
  {
   "cell_type": "code",
   "execution_count": 41,
   "id": "1ed8b2f0",
   "metadata": {},
   "outputs": [
    {
     "name": "stdout",
     "output_type": "stream",
     "text": [
      "Epoch 1/2\n",
      "1407/1407 [==============================] - 2s 1ms/step - loss: 0.3242 - accuracy: 0.8833 - val_loss: 0.3412 - val_accuracy: 0.8776\n",
      "Epoch 2/2\n",
      "1407/1407 [==============================] - 2s 1ms/step - loss: 0.3089 - accuracy: 0.8883 - val_loss: 0.3284 - val_accuracy: 0.8833\n"
     ]
    }
   ],
   "source": [
    "train=model.fit(x_train,y_train,\n",
    "                epochs=2,\n",
    "                validation_data=(x_valid,y_valid))"
   ]
  },
  {
   "cell_type": "markdown",
   "id": "db89f1c8",
   "metadata": {},
   "source": [
    "4.Gradient Clipping"
   ]
  },
  {
   "cell_type": "markdown",
   "id": "168297e0",
   "metadata": {},
   "source": [
    "Method 1:clipvalue"
   ]
  },
  {
   "cell_type": "code",
   "execution_count": 44,
   "id": "f0f1c388",
   "metadata": {},
   "outputs": [],
   "source": [
    "opt = tf.keras.optimizers.legacy.SGD(clipvalue=1.0)"
   ]
  },
  {
   "cell_type": "code",
   "execution_count": 45,
   "id": "ccc65e87",
   "metadata": {},
   "outputs": [],
   "source": [
    "opt = tf.keras.optimizers.legacy.SGD(clipvalue=0.9)"
   ]
  },
  {
   "cell_type": "code",
   "execution_count": 47,
   "id": "9d49b74b",
   "metadata": {},
   "outputs": [],
   "source": [
    "opt = tf.keras.optimizers.legacy.SGD(learning_rate=1e-3,clipvalue=0.9)\n",
    "model.compile(loss='sparse_categorical_crossentropy',optimizer =opt,metrics=['accuracy'])"
   ]
  },
  {
   "cell_type": "code",
   "execution_count": 48,
   "id": "a6f23adc",
   "metadata": {},
   "outputs": [
    {
     "name": "stdout",
     "output_type": "stream",
     "text": [
      "Epoch 1/2\n",
      "1407/1407 [==============================] - 2s 1ms/step - loss: 0.2766 - accuracy: 0.9024 - val_loss: 0.3225 - val_accuracy: 0.8843\n",
      "Epoch 2/2\n",
      "1407/1407 [==============================] - 2s 1ms/step - loss: 0.2690 - accuracy: 0.9058 - val_loss: 0.3219 - val_accuracy: 0.8849\n"
     ]
    }
   ],
   "source": [
    "train=model.fit(x_train,y_train,\n",
    "                epochs=2,\n",
    "                validation_data=(x_valid,y_valid))"
   ]
  },
  {
   "cell_type": "code",
   "execution_count": null,
   "id": "7c0f0413",
   "metadata": {},
   "outputs": [],
   "source": []
  }
 ],
 "metadata": {
  "kernelspec": {
   "display_name": "Python 3 (ipykernel)",
   "language": "python",
   "name": "python3"
  },
  "language_info": {
   "codemirror_mode": {
    "name": "ipython",
    "version": 3
   },
   "file_extension": ".py",
   "mimetype": "text/x-python",
   "name": "python",
   "nbconvert_exporter": "python",
   "pygments_lexer": "ipython3",
   "version": "3.8.18"
  }
 },
 "nbformat": 4,
 "nbformat_minor": 5
}
